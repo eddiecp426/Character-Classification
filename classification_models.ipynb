{
 "cells": [
  {
   "cell_type": "code",
   "execution_count": 15,
   "metadata": {},
   "outputs": [],
   "source": [
    "#Importing libraries needed for cleaning and visualizations\n",
    "import pandas as pd\n",
    "import numpy as np\n",
    "import matplotlib.pyplot as plt\n",
    "import seaborn as sns\n",
    "from sklearn.model_selection import train_test_split"
   ]
  },
  {
   "cell_type": "code",
   "execution_count": 5,
   "metadata": {},
   "outputs": [
    {
     "data": {
      "text/html": [
       "<div>\n",
       "<style scoped>\n",
       "    .dataframe tbody tr th:only-of-type {\n",
       "        vertical-align: middle;\n",
       "    }\n",
       "\n",
       "    .dataframe tbody tr th {\n",
       "        vertical-align: top;\n",
       "    }\n",
       "\n",
       "    .dataframe thead th {\n",
       "        text-align: right;\n",
       "    }\n",
       "</style>\n",
       "<table border=\"1\" class=\"dataframe\">\n",
       "  <thead>\n",
       "    <tr style=\"text-align: right;\">\n",
       "      <th></th>\n",
       "      <th>alter-egos</th>\n",
       "      <th>relatives</th>\n",
       "      <th>occupation</th>\n",
       "      <th>base</th>\n",
       "      <th>combat</th>\n",
       "      <th>speed</th>\n",
       "      <th>intelligence</th>\n",
       "      <th>power</th>\n",
       "      <th>durability</th>\n",
       "      <th>strength</th>\n",
       "      <th>...</th>\n",
       "      <th>intelligence_power</th>\n",
       "      <th>intelligence_speed</th>\n",
       "      <th>intelligence_strength</th>\n",
       "      <th>power_speed</th>\n",
       "      <th>power_strength</th>\n",
       "      <th>speed_strength</th>\n",
       "      <th>publisher_0</th>\n",
       "      <th>publisher_1</th>\n",
       "      <th>publisher_2</th>\n",
       "      <th>y</th>\n",
       "    </tr>\n",
       "  </thead>\n",
       "  <tbody>\n",
       "    <tr>\n",
       "      <th>0</th>\n",
       "      <td>0.0</td>\n",
       "      <td>1.0</td>\n",
       "      <td>1.0</td>\n",
       "      <td>0.0</td>\n",
       "      <td>64.0</td>\n",
       "      <td>17.0</td>\n",
       "      <td>38.0</td>\n",
       "      <td>24.0</td>\n",
       "      <td>80.0</td>\n",
       "      <td>100.0</td>\n",
       "      <td>...</td>\n",
       "      <td>912.0</td>\n",
       "      <td>646.0</td>\n",
       "      <td>3800.0</td>\n",
       "      <td>408.0</td>\n",
       "      <td>2400.0</td>\n",
       "      <td>1700.0</td>\n",
       "      <td>1</td>\n",
       "      <td>0</td>\n",
       "      <td>0</td>\n",
       "      <td>1</td>\n",
       "    </tr>\n",
       "    <tr>\n",
       "      <th>1</th>\n",
       "      <td>0.0</td>\n",
       "      <td>1.0</td>\n",
       "      <td>1.0</td>\n",
       "      <td>0.0</td>\n",
       "      <td>85.0</td>\n",
       "      <td>35.0</td>\n",
       "      <td>88.0</td>\n",
       "      <td>100.0</td>\n",
       "      <td>65.0</td>\n",
       "      <td>28.0</td>\n",
       "      <td>...</td>\n",
       "      <td>8800.0</td>\n",
       "      <td>3080.0</td>\n",
       "      <td>2464.0</td>\n",
       "      <td>3500.0</td>\n",
       "      <td>2800.0</td>\n",
       "      <td>980.0</td>\n",
       "      <td>0</td>\n",
       "      <td>0</td>\n",
       "      <td>1</td>\n",
       "      <td>1</td>\n",
       "    </tr>\n",
       "    <tr>\n",
       "      <th>2</th>\n",
       "      <td>0.0</td>\n",
       "      <td>1.0</td>\n",
       "      <td>1.0</td>\n",
       "      <td>1.0</td>\n",
       "      <td>65.0</td>\n",
       "      <td>53.0</td>\n",
       "      <td>50.0</td>\n",
       "      <td>99.0</td>\n",
       "      <td>64.0</td>\n",
       "      <td>90.0</td>\n",
       "      <td>...</td>\n",
       "      <td>4950.0</td>\n",
       "      <td>2650.0</td>\n",
       "      <td>4500.0</td>\n",
       "      <td>5247.0</td>\n",
       "      <td>8910.0</td>\n",
       "      <td>4770.0</td>\n",
       "      <td>0</td>\n",
       "      <td>1</td>\n",
       "      <td>0</td>\n",
       "      <td>1</td>\n",
       "    </tr>\n",
       "    <tr>\n",
       "      <th>3</th>\n",
       "      <td>0.0</td>\n",
       "      <td>1.0</td>\n",
       "      <td>1.0</td>\n",
       "      <td>1.0</td>\n",
       "      <td>95.0</td>\n",
       "      <td>53.0</td>\n",
       "      <td>63.0</td>\n",
       "      <td>62.0</td>\n",
       "      <td>90.0</td>\n",
       "      <td>80.0</td>\n",
       "      <td>...</td>\n",
       "      <td>3906.0</td>\n",
       "      <td>3339.0</td>\n",
       "      <td>5040.0</td>\n",
       "      <td>3286.0</td>\n",
       "      <td>4960.0</td>\n",
       "      <td>4240.0</td>\n",
       "      <td>1</td>\n",
       "      <td>0</td>\n",
       "      <td>0</td>\n",
       "      <td>0</td>\n",
       "    </tr>\n",
       "    <tr>\n",
       "      <th>4</th>\n",
       "      <td>0.0</td>\n",
       "      <td>1.0</td>\n",
       "      <td>1.0</td>\n",
       "      <td>0.0</td>\n",
       "      <td>55.0</td>\n",
       "      <td>83.0</td>\n",
       "      <td>88.0</td>\n",
       "      <td>100.0</td>\n",
       "      <td>100.0</td>\n",
       "      <td>63.0</td>\n",
       "      <td>...</td>\n",
       "      <td>8800.0</td>\n",
       "      <td>7304.0</td>\n",
       "      <td>5544.0</td>\n",
       "      <td>8300.0</td>\n",
       "      <td>6300.0</td>\n",
       "      <td>5229.0</td>\n",
       "      <td>1</td>\n",
       "      <td>0</td>\n",
       "      <td>0</td>\n",
       "      <td>0</td>\n",
       "    </tr>\n",
       "  </tbody>\n",
       "</table>\n",
       "<p>5 rows × 36 columns</p>\n",
       "</div>"
      ],
      "text/plain": [
       "   alter-egos  relatives  occupation  base  combat  speed  intelligence  \\\n",
       "0         0.0        1.0         1.0   0.0    64.0   17.0          38.0   \n",
       "1         0.0        1.0         1.0   0.0    85.0   35.0          88.0   \n",
       "2         0.0        1.0         1.0   1.0    65.0   53.0          50.0   \n",
       "3         0.0        1.0         1.0   1.0    95.0   53.0          63.0   \n",
       "4         0.0        1.0         1.0   0.0    55.0   83.0          88.0   \n",
       "\n",
       "   power  durability  strength  ...  intelligence_power  intelligence_speed  \\\n",
       "0   24.0        80.0     100.0  ...               912.0               646.0   \n",
       "1  100.0        65.0      28.0  ...              8800.0              3080.0   \n",
       "2   99.0        64.0      90.0  ...              4950.0              2650.0   \n",
       "3   62.0        90.0      80.0  ...              3906.0              3339.0   \n",
       "4  100.0       100.0      63.0  ...              8800.0              7304.0   \n",
       "\n",
       "   intelligence_strength  power_speed  power_strength  speed_strength  \\\n",
       "0                 3800.0        408.0          2400.0          1700.0   \n",
       "1                 2464.0       3500.0          2800.0           980.0   \n",
       "2                 4500.0       5247.0          8910.0          4770.0   \n",
       "3                 5040.0       3286.0          4960.0          4240.0   \n",
       "4                 5544.0       8300.0          6300.0          5229.0   \n",
       "\n",
       "   publisher_0  publisher_1  publisher_2  y  \n",
       "0            1            0            0  1  \n",
       "1            0            0            1  1  \n",
       "2            0            1            0  1  \n",
       "3            1            0            0  0  \n",
       "4            1            0            0  0  \n",
       "\n",
       "[5 rows x 36 columns]"
      ]
     },
     "execution_count": 5,
     "metadata": {},
     "output_type": "execute_result"
    }
   ],
   "source": [
    "df = pd.read_csv('testing_dataset.csv')\n",
    "df.head()"
   ]
  },
  {
   "cell_type": "code",
   "execution_count": 6,
   "metadata": {},
   "outputs": [],
   "source": [
    "X = df.drop('y', 1)\n",
    "y = df['y']"
   ]
  },
  {
   "cell_type": "code",
   "execution_count": 13,
   "metadata": {},
   "outputs": [
    {
     "data": {
      "text/html": [
       "<div>\n",
       "<style scoped>\n",
       "    .dataframe tbody tr th:only-of-type {\n",
       "        vertical-align: middle;\n",
       "    }\n",
       "\n",
       "    .dataframe tbody tr th {\n",
       "        vertical-align: top;\n",
       "    }\n",
       "\n",
       "    .dataframe thead th {\n",
       "        text-align: right;\n",
       "    }\n",
       "</style>\n",
       "<table border=\"1\" class=\"dataframe\">\n",
       "  <thead>\n",
       "    <tr style=\"text-align: right;\">\n",
       "      <th></th>\n",
       "      <th>alter-egos</th>\n",
       "      <th>relatives</th>\n",
       "      <th>occupation</th>\n",
       "      <th>base</th>\n",
       "      <th>combat</th>\n",
       "      <th>speed</th>\n",
       "      <th>intelligence</th>\n",
       "      <th>power</th>\n",
       "      <th>durability</th>\n",
       "      <th>strength</th>\n",
       "      <th>...</th>\n",
       "      <th>durability_strength</th>\n",
       "      <th>intelligence_power</th>\n",
       "      <th>intelligence_speed</th>\n",
       "      <th>intelligence_strength</th>\n",
       "      <th>power_speed</th>\n",
       "      <th>power_strength</th>\n",
       "      <th>speed_strength</th>\n",
       "      <th>publisher_0</th>\n",
       "      <th>publisher_1</th>\n",
       "      <th>publisher_2</th>\n",
       "    </tr>\n",
       "  </thead>\n",
       "  <tbody>\n",
       "    <tr>\n",
       "      <th>0</th>\n",
       "      <td>0.0</td>\n",
       "      <td>1.0</td>\n",
       "      <td>1.0</td>\n",
       "      <td>0.0</td>\n",
       "      <td>64.0</td>\n",
       "      <td>17.0</td>\n",
       "      <td>38.0</td>\n",
       "      <td>24.0</td>\n",
       "      <td>80.0</td>\n",
       "      <td>100.0</td>\n",
       "      <td>...</td>\n",
       "      <td>8000.0</td>\n",
       "      <td>912.0</td>\n",
       "      <td>646.0</td>\n",
       "      <td>3800.0</td>\n",
       "      <td>408.0</td>\n",
       "      <td>2400.0</td>\n",
       "      <td>1700.0</td>\n",
       "      <td>1</td>\n",
       "      <td>0</td>\n",
       "      <td>0</td>\n",
       "    </tr>\n",
       "    <tr>\n",
       "      <th>1</th>\n",
       "      <td>0.0</td>\n",
       "      <td>1.0</td>\n",
       "      <td>1.0</td>\n",
       "      <td>0.0</td>\n",
       "      <td>85.0</td>\n",
       "      <td>35.0</td>\n",
       "      <td>88.0</td>\n",
       "      <td>100.0</td>\n",
       "      <td>65.0</td>\n",
       "      <td>28.0</td>\n",
       "      <td>...</td>\n",
       "      <td>1820.0</td>\n",
       "      <td>8800.0</td>\n",
       "      <td>3080.0</td>\n",
       "      <td>2464.0</td>\n",
       "      <td>3500.0</td>\n",
       "      <td>2800.0</td>\n",
       "      <td>980.0</td>\n",
       "      <td>0</td>\n",
       "      <td>0</td>\n",
       "      <td>1</td>\n",
       "    </tr>\n",
       "    <tr>\n",
       "      <th>2</th>\n",
       "      <td>0.0</td>\n",
       "      <td>1.0</td>\n",
       "      <td>1.0</td>\n",
       "      <td>1.0</td>\n",
       "      <td>65.0</td>\n",
       "      <td>53.0</td>\n",
       "      <td>50.0</td>\n",
       "      <td>99.0</td>\n",
       "      <td>64.0</td>\n",
       "      <td>90.0</td>\n",
       "      <td>...</td>\n",
       "      <td>5760.0</td>\n",
       "      <td>4950.0</td>\n",
       "      <td>2650.0</td>\n",
       "      <td>4500.0</td>\n",
       "      <td>5247.0</td>\n",
       "      <td>8910.0</td>\n",
       "      <td>4770.0</td>\n",
       "      <td>0</td>\n",
       "      <td>1</td>\n",
       "      <td>0</td>\n",
       "    </tr>\n",
       "    <tr>\n",
       "      <th>3</th>\n",
       "      <td>0.0</td>\n",
       "      <td>1.0</td>\n",
       "      <td>1.0</td>\n",
       "      <td>1.0</td>\n",
       "      <td>95.0</td>\n",
       "      <td>53.0</td>\n",
       "      <td>63.0</td>\n",
       "      <td>62.0</td>\n",
       "      <td>90.0</td>\n",
       "      <td>80.0</td>\n",
       "      <td>...</td>\n",
       "      <td>7200.0</td>\n",
       "      <td>3906.0</td>\n",
       "      <td>3339.0</td>\n",
       "      <td>5040.0</td>\n",
       "      <td>3286.0</td>\n",
       "      <td>4960.0</td>\n",
       "      <td>4240.0</td>\n",
       "      <td>1</td>\n",
       "      <td>0</td>\n",
       "      <td>0</td>\n",
       "    </tr>\n",
       "    <tr>\n",
       "      <th>4</th>\n",
       "      <td>0.0</td>\n",
       "      <td>1.0</td>\n",
       "      <td>1.0</td>\n",
       "      <td>0.0</td>\n",
       "      <td>55.0</td>\n",
       "      <td>83.0</td>\n",
       "      <td>88.0</td>\n",
       "      <td>100.0</td>\n",
       "      <td>100.0</td>\n",
       "      <td>63.0</td>\n",
       "      <td>...</td>\n",
       "      <td>6300.0</td>\n",
       "      <td>8800.0</td>\n",
       "      <td>7304.0</td>\n",
       "      <td>5544.0</td>\n",
       "      <td>8300.0</td>\n",
       "      <td>6300.0</td>\n",
       "      <td>5229.0</td>\n",
       "      <td>1</td>\n",
       "      <td>0</td>\n",
       "      <td>0</td>\n",
       "    </tr>\n",
       "  </tbody>\n",
       "</table>\n",
       "<p>5 rows × 35 columns</p>\n",
       "</div>"
      ],
      "text/plain": [
       "   alter-egos  relatives  occupation  base  combat  speed  intelligence  \\\n",
       "0         0.0        1.0         1.0   0.0    64.0   17.0          38.0   \n",
       "1         0.0        1.0         1.0   0.0    85.0   35.0          88.0   \n",
       "2         0.0        1.0         1.0   1.0    65.0   53.0          50.0   \n",
       "3         0.0        1.0         1.0   1.0    95.0   53.0          63.0   \n",
       "4         0.0        1.0         1.0   0.0    55.0   83.0          88.0   \n",
       "\n",
       "   power  durability  strength  ...  durability_strength  intelligence_power  \\\n",
       "0   24.0        80.0     100.0  ...               8000.0               912.0   \n",
       "1  100.0        65.0      28.0  ...               1820.0              8800.0   \n",
       "2   99.0        64.0      90.0  ...               5760.0              4950.0   \n",
       "3   62.0        90.0      80.0  ...               7200.0              3906.0   \n",
       "4  100.0       100.0      63.0  ...               6300.0              8800.0   \n",
       "\n",
       "   intelligence_speed  intelligence_strength  power_speed  power_strength  \\\n",
       "0               646.0                 3800.0        408.0          2400.0   \n",
       "1              3080.0                 2464.0       3500.0          2800.0   \n",
       "2              2650.0                 4500.0       5247.0          8910.0   \n",
       "3              3339.0                 5040.0       3286.0          4960.0   \n",
       "4              7304.0                 5544.0       8300.0          6300.0   \n",
       "\n",
       "   speed_strength  publisher_0  publisher_1  publisher_2  \n",
       "0          1700.0            1            0            0  \n",
       "1           980.0            0            0            1  \n",
       "2          4770.0            0            1            0  \n",
       "3          4240.0            1            0            0  \n",
       "4          5229.0            1            0            0  \n",
       "\n",
       "[5 rows x 35 columns]"
      ]
     },
     "execution_count": 13,
     "metadata": {},
     "output_type": "execute_result"
    }
   ],
   "source": [
    "X.head()"
   ]
  },
  {
   "cell_type": "code",
   "execution_count": 11,
   "metadata": {},
   "outputs": [
    {
     "data": {
      "text/plain": [
       "0    1\n",
       "1    1\n",
       "2    1\n",
       "3    0\n",
       "4    0\n",
       "Name: y, dtype: int64"
      ]
     },
     "execution_count": 11,
     "metadata": {},
     "output_type": "execute_result"
    }
   ],
   "source": [
    "y.head()"
   ]
  },
  {
   "cell_type": "code",
   "execution_count": 215,
   "metadata": {},
   "outputs": [],
   "source": [
    "# Use train_test_split in sklearn.model selection to split data into train and test sets\n",
    "X_train, X_test, y_train, y_test = train_test_split(X, y, train_size = 0.9)"
   ]
  },
  {
   "cell_type": "code",
   "execution_count": 176,
   "metadata": {},
   "outputs": [],
   "source": [
    "import sklearn.feature_selection\n",
    "\n",
    "select = sklearn.feature_selection.SelectKBest(k=20)\n",
    "selected_features = select.fit(X_train, y_train)\n",
    "indices_selected = selected_features.get_support(indices=True)\n",
    "colnames_selected = [X.columns[i] for i in indices_selected]\n",
    "\n",
    "X_train_selected = X_train[colnames_selected]\n",
    "X_test_selected = X_test[colnames_selected]"
   ]
  },
  {
   "cell_type": "code",
   "execution_count": 177,
   "metadata": {},
   "outputs": [
    {
     "name": "stdout",
     "output_type": "stream",
     "text": [
      "['alter-egos', 'relatives', 'base', 'intelligence', 'durability', 'strength', 'overall', 'durability.1', 'intelligence.1', 'strength.1', 'combat_durability', 'combat_strength', 'durability_intelligence', 'durability_power', 'durability_strength', 'intelligence_power', 'intelligence_strength', 'power_strength', 'speed_strength', 'publisher_2']\n"
     ]
    }
   ],
   "source": [
    "print(colnames_selected)"
   ]
  },
  {
   "cell_type": "markdown",
   "metadata": {},
   "source": [
    "## Logistic Regression"
   ]
  },
  {
   "cell_type": "code",
   "execution_count": 178,
   "metadata": {},
   "outputs": [
    {
     "data": {
      "text/html": [
       "<div>\n",
       "<style scoped>\n",
       "    .dataframe tbody tr th:only-of-type {\n",
       "        vertical-align: middle;\n",
       "    }\n",
       "\n",
       "    .dataframe tbody tr th {\n",
       "        vertical-align: top;\n",
       "    }\n",
       "\n",
       "    .dataframe thead th {\n",
       "        text-align: right;\n",
       "    }\n",
       "</style>\n",
       "<table border=\"1\" class=\"dataframe\">\n",
       "  <thead>\n",
       "    <tr style=\"text-align: right;\">\n",
       "      <th></th>\n",
       "      <th>alter-egos</th>\n",
       "      <th>relatives</th>\n",
       "      <th>base</th>\n",
       "      <th>intelligence</th>\n",
       "      <th>durability</th>\n",
       "      <th>strength</th>\n",
       "      <th>overall</th>\n",
       "      <th>durability.1</th>\n",
       "      <th>intelligence.1</th>\n",
       "      <th>strength.1</th>\n",
       "      <th>combat_durability</th>\n",
       "      <th>combat_strength</th>\n",
       "      <th>durability_intelligence</th>\n",
       "      <th>durability_power</th>\n",
       "      <th>durability_strength</th>\n",
       "      <th>intelligence_power</th>\n",
       "      <th>intelligence_strength</th>\n",
       "      <th>power_strength</th>\n",
       "      <th>speed_strength</th>\n",
       "      <th>publisher_2</th>\n",
       "    </tr>\n",
       "  </thead>\n",
       "  <tbody>\n",
       "    <tr>\n",
       "      <th>121</th>\n",
       "      <td>0.0</td>\n",
       "      <td>1.0</td>\n",
       "      <td>0.0</td>\n",
       "      <td>38.0</td>\n",
       "      <td>32.0</td>\n",
       "      <td>10.0</td>\n",
       "      <td>191.0</td>\n",
       "      <td>32.0</td>\n",
       "      <td>38.0</td>\n",
       "      <td>10.0</td>\n",
       "      <td>1792.0</td>\n",
       "      <td>560.0</td>\n",
       "      <td>1216.0</td>\n",
       "      <td>640.0</td>\n",
       "      <td>320.0</td>\n",
       "      <td>760.0</td>\n",
       "      <td>380.0</td>\n",
       "      <td>200.0</td>\n",
       "      <td>350.0</td>\n",
       "      <td>0</td>\n",
       "    </tr>\n",
       "    <tr>\n",
       "      <th>633</th>\n",
       "      <td>0.0</td>\n",
       "      <td>1.0</td>\n",
       "      <td>0.0</td>\n",
       "      <td>38.0</td>\n",
       "      <td>28.0</td>\n",
       "      <td>8.0</td>\n",
       "      <td>213.0</td>\n",
       "      <td>28.0</td>\n",
       "      <td>38.0</td>\n",
       "      <td>8.0</td>\n",
       "      <td>1176.0</td>\n",
       "      <td>336.0</td>\n",
       "      <td>1064.0</td>\n",
       "      <td>1400.0</td>\n",
       "      <td>224.0</td>\n",
       "      <td>1900.0</td>\n",
       "      <td>304.0</td>\n",
       "      <td>400.0</td>\n",
       "      <td>376.0</td>\n",
       "      <td>0</td>\n",
       "    </tr>\n",
       "    <tr>\n",
       "      <th>730</th>\n",
       "      <td>1.0</td>\n",
       "      <td>0.0</td>\n",
       "      <td>1.0</td>\n",
       "      <td>63.0</td>\n",
       "      <td>60.0</td>\n",
       "      <td>37.0</td>\n",
       "      <td>321.0</td>\n",
       "      <td>60.0</td>\n",
       "      <td>63.0</td>\n",
       "      <td>37.0</td>\n",
       "      <td>3840.0</td>\n",
       "      <td>2368.0</td>\n",
       "      <td>3780.0</td>\n",
       "      <td>3840.0</td>\n",
       "      <td>2220.0</td>\n",
       "      <td>4032.0</td>\n",
       "      <td>2331.0</td>\n",
       "      <td>2368.0</td>\n",
       "      <td>1221.0</td>\n",
       "      <td>1</td>\n",
       "    </tr>\n",
       "    <tr>\n",
       "      <th>723</th>\n",
       "      <td>0.0</td>\n",
       "      <td>0.0</td>\n",
       "      <td>1.0</td>\n",
       "      <td>63.0</td>\n",
       "      <td>60.0</td>\n",
       "      <td>94.0</td>\n",
       "      <td>378.0</td>\n",
       "      <td>60.0</td>\n",
       "      <td>63.0</td>\n",
       "      <td>94.0</td>\n",
       "      <td>3840.0</td>\n",
       "      <td>6016.0</td>\n",
       "      <td>3780.0</td>\n",
       "      <td>3840.0</td>\n",
       "      <td>5640.0</td>\n",
       "      <td>4032.0</td>\n",
       "      <td>5922.0</td>\n",
       "      <td>6016.0</td>\n",
       "      <td>3102.0</td>\n",
       "      <td>0</td>\n",
       "    </tr>\n",
       "    <tr>\n",
       "      <th>353</th>\n",
       "      <td>0.0</td>\n",
       "      <td>1.0</td>\n",
       "      <td>0.0</td>\n",
       "      <td>63.0</td>\n",
       "      <td>60.0</td>\n",
       "      <td>53.0</td>\n",
       "      <td>337.0</td>\n",
       "      <td>60.0</td>\n",
       "      <td>63.0</td>\n",
       "      <td>53.0</td>\n",
       "      <td>3840.0</td>\n",
       "      <td>3392.0</td>\n",
       "      <td>3780.0</td>\n",
       "      <td>3840.0</td>\n",
       "      <td>3180.0</td>\n",
       "      <td>4032.0</td>\n",
       "      <td>3339.0</td>\n",
       "      <td>3392.0</td>\n",
       "      <td>1749.0</td>\n",
       "      <td>0</td>\n",
       "    </tr>\n",
       "  </tbody>\n",
       "</table>\n",
       "</div>"
      ],
      "text/plain": [
       "     alter-egos  relatives  base  intelligence  durability  strength  overall  \\\n",
       "121         0.0        1.0   0.0          38.0        32.0      10.0    191.0   \n",
       "633         0.0        1.0   0.0          38.0        28.0       8.0    213.0   \n",
       "730         1.0        0.0   1.0          63.0        60.0      37.0    321.0   \n",
       "723         0.0        0.0   1.0          63.0        60.0      94.0    378.0   \n",
       "353         0.0        1.0   0.0          63.0        60.0      53.0    337.0   \n",
       "\n",
       "     durability.1  intelligence.1  strength.1  combat_durability  \\\n",
       "121          32.0            38.0        10.0             1792.0   \n",
       "633          28.0            38.0         8.0             1176.0   \n",
       "730          60.0            63.0        37.0             3840.0   \n",
       "723          60.0            63.0        94.0             3840.0   \n",
       "353          60.0            63.0        53.0             3840.0   \n",
       "\n",
       "     combat_strength  durability_intelligence  durability_power  \\\n",
       "121            560.0                   1216.0             640.0   \n",
       "633            336.0                   1064.0            1400.0   \n",
       "730           2368.0                   3780.0            3840.0   \n",
       "723           6016.0                   3780.0            3840.0   \n",
       "353           3392.0                   3780.0            3840.0   \n",
       "\n",
       "     durability_strength  intelligence_power  intelligence_strength  \\\n",
       "121                320.0               760.0                  380.0   \n",
       "633                224.0              1900.0                  304.0   \n",
       "730               2220.0              4032.0                 2331.0   \n",
       "723               5640.0              4032.0                 5922.0   \n",
       "353               3180.0              4032.0                 3339.0   \n",
       "\n",
       "     power_strength  speed_strength  publisher_2  \n",
       "121           200.0           350.0            0  \n",
       "633           400.0           376.0            0  \n",
       "730          2368.0          1221.0            1  \n",
       "723          6016.0          3102.0            0  \n",
       "353          3392.0          1749.0            0  "
      ]
     },
     "execution_count": 178,
     "metadata": {},
     "output_type": "execute_result"
    }
   ],
   "source": [
    "X_train_selected.head()"
   ]
  },
  {
   "cell_type": "code",
   "execution_count": 216,
   "metadata": {},
   "outputs": [
    {
     "name": "stderr",
     "output_type": "stream",
     "text": [
      "//anaconda3/lib/python3.7/site-packages/sklearn/linear_model/logistic.py:432: FutureWarning: Default solver will be changed to 'lbfgs' in 0.22. Specify a solver to silence this warning.\n",
      "  FutureWarning)\n"
     ]
    },
    {
     "data": {
      "text/plain": [
       "LogisticRegression(C=1.0, class_weight=None, dual=False, fit_intercept=True,\n",
       "                   intercept_scaling=1, l1_ratio=None, max_iter=100,\n",
       "                   multi_class='warn', n_jobs=None, penalty='l2',\n",
       "                   random_state=None, solver='warn', tol=0.0001, verbose=0,\n",
       "                   warm_start=False)"
      ]
     },
     "execution_count": 216,
     "metadata": {},
     "output_type": "execute_result"
    }
   ],
   "source": [
    "logreg = LogisticRegression()\n",
    "logreg.fit(X_train_selected, y_train)"
   ]
  },
  {
   "cell_type": "code",
   "execution_count": 217,
   "metadata": {},
   "outputs": [],
   "source": [
    "# make class predictions for the testing set\n",
    "y_pred_class = logreg.predict(X_test_selected)"
   ]
  },
  {
   "cell_type": "code",
   "execution_count": 227,
   "metadata": {},
   "outputs": [
    {
     "name": "stdout",
     "output_type": "stream",
     "text": [
      "Accuracy: 0.7051282051282052\n"
     ]
    }
   ],
   "source": [
    "# calculate accuracy\n",
    "from sklearn import metrics\n",
    "log_auc = metrics.accuracy_score(y_test, y_pred_class)\n",
    "print('Accuracy:', log_auc)"
   ]
  },
  {
   "cell_type": "code",
   "execution_count": 219,
   "metadata": {},
   "outputs": [
    {
     "data": {
      "text/plain": [
       "1    56\n",
       "0    22\n",
       "Name: y, dtype: int64"
      ]
     },
     "execution_count": 219,
     "metadata": {},
     "output_type": "execute_result"
    }
   ],
   "source": [
    "# examine the class distribution of the testing set (using a Pandas Series method)\n",
    "y_test.value_counts()"
   ]
  },
  {
   "cell_type": "code",
   "execution_count": 220,
   "metadata": {},
   "outputs": [
    {
     "data": {
      "text/plain": [
       "0.717948717948718"
      ]
     },
     "execution_count": 220,
     "metadata": {},
     "output_type": "execute_result"
    }
   ],
   "source": [
    "# calculate the percentage of 'good'\n",
    "y_test.mean()"
   ]
  },
  {
   "cell_type": "code",
   "execution_count": 221,
   "metadata": {},
   "outputs": [
    {
     "data": {
      "text/plain": [
       "0.28205128205128205"
      ]
     },
     "execution_count": 221,
     "metadata": {},
     "output_type": "execute_result"
    }
   ],
   "source": [
    "# calculate the percentage of 'evil\n",
    "1 - y_test.mean()"
   ]
  },
  {
   "cell_type": "code",
   "execution_count": 228,
   "metadata": {},
   "outputs": [
    {
     "name": "stdout",
     "output_type": "stream",
     "text": [
      "True: [1 0 1 1 1 1 1 1 1 1 0 1 1 1 1 1 0 1 1 0 1 1 0 1 1]\n",
      "Pred: [1 1 1 1 1 1 1 1 1 1 1 1 1 0 1 1 1 1 1 1 1 1 1 1 0]\n"
     ]
    }
   ],
   "source": [
    "# print the first 25 true and predicted responses\n",
    "print('True:', y_test.values[0:25])\n",
    "print('Pred:', y_pred_class[0:25])"
   ]
  },
  {
   "cell_type": "markdown",
   "metadata": {},
   "source": [
    "## Naives Bayes"
   ]
  },
  {
   "cell_type": "code",
   "execution_count": 234,
   "metadata": {},
   "outputs": [],
   "source": [
    "from sklearn.naive_bayes import GaussianNB\n",
    "gnb = GaussianNB()\n",
    "gnb.fit(X_train_selected, y_train)\n",
    "y_predNB = gnb.predict(X_test_selected)"
   ]
  },
  {
   "cell_type": "code",
   "execution_count": 235,
   "metadata": {},
   "outputs": [
    {
     "name": "stdout",
     "output_type": "stream",
     "text": [
      "Accuracy: 0.6025641025641025\n"
     ]
    }
   ],
   "source": [
    "# Model Accuracy, how often is the classifier correct?\n",
    "print(\"Accuracy:\", metrics.accuracy_score(y_test, y_predNB))"
   ]
  },
  {
   "cell_type": "markdown",
   "metadata": {},
   "source": [
    "## Stochastic Gradient Descent"
   ]
  },
  {
   "cell_type": "code",
   "execution_count": 262,
   "metadata": {},
   "outputs": [],
   "source": [
    "from sklearn.linear_model import SGDClassifier\n",
    "sgd = SGDClassifier(max_iter=1500)\n",
    "sgd.fit(X_train_selected, y_train)\n",
    "y_predSGB = sgd.predict(X_test_selected)"
   ]
  },
  {
   "cell_type": "code",
   "execution_count": 263,
   "metadata": {},
   "outputs": [
    {
     "name": "stdout",
     "output_type": "stream",
     "text": [
      "Accuracy: 0.6923076923076923\n"
     ]
    }
   ],
   "source": [
    "# Model Accuracy, how often is the classifier correct?\n",
    "print(\"Accuracy:\", metrics.accuracy_score(y_test, y_predSGB))"
   ]
  },
  {
   "cell_type": "markdown",
   "metadata": {},
   "source": [
    "## KNN"
   ]
  },
  {
   "cell_type": "code",
   "execution_count": null,
   "metadata": {},
   "outputs": [],
   "source": []
  }
 ],
 "metadata": {
  "kernelspec": {
   "display_name": "Python 3",
   "language": "python",
   "name": "python3"
  },
  "language_info": {
   "codemirror_mode": {
    "name": "ipython",
    "version": 3
   },
   "file_extension": ".py",
   "mimetype": "text/x-python",
   "name": "python",
   "nbconvert_exporter": "python",
   "pygments_lexer": "ipython3",
   "version": "3.7.3"
  }
 },
 "nbformat": 4,
 "nbformat_minor": 4
}
