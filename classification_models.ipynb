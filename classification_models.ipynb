{
 "cells": [
  {
   "cell_type": "code",
   "execution_count": 1,
   "metadata": {},
   "outputs": [],
   "source": [
    "#Importing libraries needed for cleaning and visualizations\n",
    "import pandas as pd\n",
    "import numpy as np\n",
    "import matplotlib.pyplot as plt\n",
    "import seaborn as sns\n",
    "from sklearn.model_selection import train_test_split"
   ]
  },
  {
   "cell_type": "code",
   "execution_count": 2,
   "metadata": {},
   "outputs": [
    {
     "data": {
      "text/html": [
       "<div>\n",
       "<style scoped>\n",
       "    .dataframe tbody tr th:only-of-type {\n",
       "        vertical-align: middle;\n",
       "    }\n",
       "\n",
       "    .dataframe tbody tr th {\n",
       "        vertical-align: top;\n",
       "    }\n",
       "\n",
       "    .dataframe thead th {\n",
       "        text-align: right;\n",
       "    }\n",
       "</style>\n",
       "<table border=\"1\" class=\"dataframe\">\n",
       "  <thead>\n",
       "    <tr style=\"text-align: right;\">\n",
       "      <th></th>\n",
       "      <th>alter-egos</th>\n",
       "      <th>relatives</th>\n",
       "      <th>occupation</th>\n",
       "      <th>base</th>\n",
       "      <th>combat</th>\n",
       "      <th>speed</th>\n",
       "      <th>intelligence</th>\n",
       "      <th>power</th>\n",
       "      <th>durability</th>\n",
       "      <th>strength</th>\n",
       "      <th>...</th>\n",
       "      <th>intelligence_power</th>\n",
       "      <th>intelligence_speed</th>\n",
       "      <th>intelligence_strength</th>\n",
       "      <th>power_speed</th>\n",
       "      <th>power_strength</th>\n",
       "      <th>speed_strength</th>\n",
       "      <th>publisher_0</th>\n",
       "      <th>publisher_1</th>\n",
       "      <th>publisher_2</th>\n",
       "      <th>y</th>\n",
       "    </tr>\n",
       "  </thead>\n",
       "  <tbody>\n",
       "    <tr>\n",
       "      <th>0</th>\n",
       "      <td>0.0</td>\n",
       "      <td>1.0</td>\n",
       "      <td>1.0</td>\n",
       "      <td>0.0</td>\n",
       "      <td>64.0</td>\n",
       "      <td>17.0</td>\n",
       "      <td>38.0</td>\n",
       "      <td>24.0</td>\n",
       "      <td>80.0</td>\n",
       "      <td>100.0</td>\n",
       "      <td>...</td>\n",
       "      <td>912.0</td>\n",
       "      <td>646.0</td>\n",
       "      <td>3800.0</td>\n",
       "      <td>408.0</td>\n",
       "      <td>2400.0</td>\n",
       "      <td>1700.0</td>\n",
       "      <td>1</td>\n",
       "      <td>0</td>\n",
       "      <td>0</td>\n",
       "      <td>1</td>\n",
       "    </tr>\n",
       "    <tr>\n",
       "      <th>1</th>\n",
       "      <td>0.0</td>\n",
       "      <td>1.0</td>\n",
       "      <td>1.0</td>\n",
       "      <td>0.0</td>\n",
       "      <td>85.0</td>\n",
       "      <td>35.0</td>\n",
       "      <td>88.0</td>\n",
       "      <td>100.0</td>\n",
       "      <td>65.0</td>\n",
       "      <td>28.0</td>\n",
       "      <td>...</td>\n",
       "      <td>8800.0</td>\n",
       "      <td>3080.0</td>\n",
       "      <td>2464.0</td>\n",
       "      <td>3500.0</td>\n",
       "      <td>2800.0</td>\n",
       "      <td>980.0</td>\n",
       "      <td>0</td>\n",
       "      <td>0</td>\n",
       "      <td>1</td>\n",
       "      <td>1</td>\n",
       "    </tr>\n",
       "    <tr>\n",
       "      <th>2</th>\n",
       "      <td>0.0</td>\n",
       "      <td>1.0</td>\n",
       "      <td>1.0</td>\n",
       "      <td>1.0</td>\n",
       "      <td>65.0</td>\n",
       "      <td>53.0</td>\n",
       "      <td>50.0</td>\n",
       "      <td>99.0</td>\n",
       "      <td>64.0</td>\n",
       "      <td>90.0</td>\n",
       "      <td>...</td>\n",
       "      <td>4950.0</td>\n",
       "      <td>2650.0</td>\n",
       "      <td>4500.0</td>\n",
       "      <td>5247.0</td>\n",
       "      <td>8910.0</td>\n",
       "      <td>4770.0</td>\n",
       "      <td>0</td>\n",
       "      <td>1</td>\n",
       "      <td>0</td>\n",
       "      <td>1</td>\n",
       "    </tr>\n",
       "    <tr>\n",
       "      <th>3</th>\n",
       "      <td>0.0</td>\n",
       "      <td>1.0</td>\n",
       "      <td>1.0</td>\n",
       "      <td>1.0</td>\n",
       "      <td>95.0</td>\n",
       "      <td>53.0</td>\n",
       "      <td>63.0</td>\n",
       "      <td>62.0</td>\n",
       "      <td>90.0</td>\n",
       "      <td>80.0</td>\n",
       "      <td>...</td>\n",
       "      <td>3906.0</td>\n",
       "      <td>3339.0</td>\n",
       "      <td>5040.0</td>\n",
       "      <td>3286.0</td>\n",
       "      <td>4960.0</td>\n",
       "      <td>4240.0</td>\n",
       "      <td>1</td>\n",
       "      <td>0</td>\n",
       "      <td>0</td>\n",
       "      <td>0</td>\n",
       "    </tr>\n",
       "    <tr>\n",
       "      <th>4</th>\n",
       "      <td>0.0</td>\n",
       "      <td>1.0</td>\n",
       "      <td>1.0</td>\n",
       "      <td>0.0</td>\n",
       "      <td>55.0</td>\n",
       "      <td>83.0</td>\n",
       "      <td>88.0</td>\n",
       "      <td>100.0</td>\n",
       "      <td>100.0</td>\n",
       "      <td>63.0</td>\n",
       "      <td>...</td>\n",
       "      <td>8800.0</td>\n",
       "      <td>7304.0</td>\n",
       "      <td>5544.0</td>\n",
       "      <td>8300.0</td>\n",
       "      <td>6300.0</td>\n",
       "      <td>5229.0</td>\n",
       "      <td>1</td>\n",
       "      <td>0</td>\n",
       "      <td>0</td>\n",
       "      <td>0</td>\n",
       "    </tr>\n",
       "  </tbody>\n",
       "</table>\n",
       "<p>5 rows × 36 columns</p>\n",
       "</div>"
      ],
      "text/plain": [
       "   alter-egos  relatives  occupation  base  combat  speed  intelligence  \\\n",
       "0         0.0        1.0         1.0   0.0    64.0   17.0          38.0   \n",
       "1         0.0        1.0         1.0   0.0    85.0   35.0          88.0   \n",
       "2         0.0        1.0         1.0   1.0    65.0   53.0          50.0   \n",
       "3         0.0        1.0         1.0   1.0    95.0   53.0          63.0   \n",
       "4         0.0        1.0         1.0   0.0    55.0   83.0          88.0   \n",
       "\n",
       "   power  durability  strength  ...  intelligence_power  intelligence_speed  \\\n",
       "0   24.0        80.0     100.0  ...               912.0               646.0   \n",
       "1  100.0        65.0      28.0  ...              8800.0              3080.0   \n",
       "2   99.0        64.0      90.0  ...              4950.0              2650.0   \n",
       "3   62.0        90.0      80.0  ...              3906.0              3339.0   \n",
       "4  100.0       100.0      63.0  ...              8800.0              7304.0   \n",
       "\n",
       "   intelligence_strength  power_speed  power_strength  speed_strength  \\\n",
       "0                 3800.0        408.0          2400.0          1700.0   \n",
       "1                 2464.0       3500.0          2800.0           980.0   \n",
       "2                 4500.0       5247.0          8910.0          4770.0   \n",
       "3                 5040.0       3286.0          4960.0          4240.0   \n",
       "4                 5544.0       8300.0          6300.0          5229.0   \n",
       "\n",
       "   publisher_0  publisher_1  publisher_2  y  \n",
       "0            1            0            0  1  \n",
       "1            0            0            1  1  \n",
       "2            0            1            0  1  \n",
       "3            1            0            0  0  \n",
       "4            1            0            0  0  \n",
       "\n",
       "[5 rows x 36 columns]"
      ]
     },
     "execution_count": 2,
     "metadata": {},
     "output_type": "execute_result"
    }
   ],
   "source": [
    "#Reding in testing data\n",
    "df = pd.read_csv('testing_dataset.csv')\n",
    "df.head()"
   ]
  },
  {
   "cell_type": "code",
   "execution_count": 3,
   "metadata": {},
   "outputs": [],
   "source": [
    "X = df.drop('y', 1)\n",
    "y = df['y']"
   ]
  },
  {
   "cell_type": "code",
   "execution_count": 4,
   "metadata": {},
   "outputs": [
    {
     "data": {
      "text/html": [
       "<div>\n",
       "<style scoped>\n",
       "    .dataframe tbody tr th:only-of-type {\n",
       "        vertical-align: middle;\n",
       "    }\n",
       "\n",
       "    .dataframe tbody tr th {\n",
       "        vertical-align: top;\n",
       "    }\n",
       "\n",
       "    .dataframe thead th {\n",
       "        text-align: right;\n",
       "    }\n",
       "</style>\n",
       "<table border=\"1\" class=\"dataframe\">\n",
       "  <thead>\n",
       "    <tr style=\"text-align: right;\">\n",
       "      <th></th>\n",
       "      <th>alter-egos</th>\n",
       "      <th>relatives</th>\n",
       "      <th>occupation</th>\n",
       "      <th>base</th>\n",
       "      <th>combat</th>\n",
       "      <th>speed</th>\n",
       "      <th>intelligence</th>\n",
       "      <th>power</th>\n",
       "      <th>durability</th>\n",
       "      <th>strength</th>\n",
       "      <th>...</th>\n",
       "      <th>durability_strength</th>\n",
       "      <th>intelligence_power</th>\n",
       "      <th>intelligence_speed</th>\n",
       "      <th>intelligence_strength</th>\n",
       "      <th>power_speed</th>\n",
       "      <th>power_strength</th>\n",
       "      <th>speed_strength</th>\n",
       "      <th>publisher_0</th>\n",
       "      <th>publisher_1</th>\n",
       "      <th>publisher_2</th>\n",
       "    </tr>\n",
       "  </thead>\n",
       "  <tbody>\n",
       "    <tr>\n",
       "      <th>0</th>\n",
       "      <td>0.0</td>\n",
       "      <td>1.0</td>\n",
       "      <td>1.0</td>\n",
       "      <td>0.0</td>\n",
       "      <td>64.0</td>\n",
       "      <td>17.0</td>\n",
       "      <td>38.0</td>\n",
       "      <td>24.0</td>\n",
       "      <td>80.0</td>\n",
       "      <td>100.0</td>\n",
       "      <td>...</td>\n",
       "      <td>8000.0</td>\n",
       "      <td>912.0</td>\n",
       "      <td>646.0</td>\n",
       "      <td>3800.0</td>\n",
       "      <td>408.0</td>\n",
       "      <td>2400.0</td>\n",
       "      <td>1700.0</td>\n",
       "      <td>1</td>\n",
       "      <td>0</td>\n",
       "      <td>0</td>\n",
       "    </tr>\n",
       "    <tr>\n",
       "      <th>1</th>\n",
       "      <td>0.0</td>\n",
       "      <td>1.0</td>\n",
       "      <td>1.0</td>\n",
       "      <td>0.0</td>\n",
       "      <td>85.0</td>\n",
       "      <td>35.0</td>\n",
       "      <td>88.0</td>\n",
       "      <td>100.0</td>\n",
       "      <td>65.0</td>\n",
       "      <td>28.0</td>\n",
       "      <td>...</td>\n",
       "      <td>1820.0</td>\n",
       "      <td>8800.0</td>\n",
       "      <td>3080.0</td>\n",
       "      <td>2464.0</td>\n",
       "      <td>3500.0</td>\n",
       "      <td>2800.0</td>\n",
       "      <td>980.0</td>\n",
       "      <td>0</td>\n",
       "      <td>0</td>\n",
       "      <td>1</td>\n",
       "    </tr>\n",
       "    <tr>\n",
       "      <th>2</th>\n",
       "      <td>0.0</td>\n",
       "      <td>1.0</td>\n",
       "      <td>1.0</td>\n",
       "      <td>1.0</td>\n",
       "      <td>65.0</td>\n",
       "      <td>53.0</td>\n",
       "      <td>50.0</td>\n",
       "      <td>99.0</td>\n",
       "      <td>64.0</td>\n",
       "      <td>90.0</td>\n",
       "      <td>...</td>\n",
       "      <td>5760.0</td>\n",
       "      <td>4950.0</td>\n",
       "      <td>2650.0</td>\n",
       "      <td>4500.0</td>\n",
       "      <td>5247.0</td>\n",
       "      <td>8910.0</td>\n",
       "      <td>4770.0</td>\n",
       "      <td>0</td>\n",
       "      <td>1</td>\n",
       "      <td>0</td>\n",
       "    </tr>\n",
       "    <tr>\n",
       "      <th>3</th>\n",
       "      <td>0.0</td>\n",
       "      <td>1.0</td>\n",
       "      <td>1.0</td>\n",
       "      <td>1.0</td>\n",
       "      <td>95.0</td>\n",
       "      <td>53.0</td>\n",
       "      <td>63.0</td>\n",
       "      <td>62.0</td>\n",
       "      <td>90.0</td>\n",
       "      <td>80.0</td>\n",
       "      <td>...</td>\n",
       "      <td>7200.0</td>\n",
       "      <td>3906.0</td>\n",
       "      <td>3339.0</td>\n",
       "      <td>5040.0</td>\n",
       "      <td>3286.0</td>\n",
       "      <td>4960.0</td>\n",
       "      <td>4240.0</td>\n",
       "      <td>1</td>\n",
       "      <td>0</td>\n",
       "      <td>0</td>\n",
       "    </tr>\n",
       "    <tr>\n",
       "      <th>4</th>\n",
       "      <td>0.0</td>\n",
       "      <td>1.0</td>\n",
       "      <td>1.0</td>\n",
       "      <td>0.0</td>\n",
       "      <td>55.0</td>\n",
       "      <td>83.0</td>\n",
       "      <td>88.0</td>\n",
       "      <td>100.0</td>\n",
       "      <td>100.0</td>\n",
       "      <td>63.0</td>\n",
       "      <td>...</td>\n",
       "      <td>6300.0</td>\n",
       "      <td>8800.0</td>\n",
       "      <td>7304.0</td>\n",
       "      <td>5544.0</td>\n",
       "      <td>8300.0</td>\n",
       "      <td>6300.0</td>\n",
       "      <td>5229.0</td>\n",
       "      <td>1</td>\n",
       "      <td>0</td>\n",
       "      <td>0</td>\n",
       "    </tr>\n",
       "  </tbody>\n",
       "</table>\n",
       "<p>5 rows × 35 columns</p>\n",
       "</div>"
      ],
      "text/plain": [
       "   alter-egos  relatives  occupation  base  combat  speed  intelligence  \\\n",
       "0         0.0        1.0         1.0   0.0    64.0   17.0          38.0   \n",
       "1         0.0        1.0         1.0   0.0    85.0   35.0          88.0   \n",
       "2         0.0        1.0         1.0   1.0    65.0   53.0          50.0   \n",
       "3         0.0        1.0         1.0   1.0    95.0   53.0          63.0   \n",
       "4         0.0        1.0         1.0   0.0    55.0   83.0          88.0   \n",
       "\n",
       "   power  durability  strength  ...  durability_strength  intelligence_power  \\\n",
       "0   24.0        80.0     100.0  ...               8000.0               912.0   \n",
       "1  100.0        65.0      28.0  ...               1820.0              8800.0   \n",
       "2   99.0        64.0      90.0  ...               5760.0              4950.0   \n",
       "3   62.0        90.0      80.0  ...               7200.0              3906.0   \n",
       "4  100.0       100.0      63.0  ...               6300.0              8800.0   \n",
       "\n",
       "   intelligence_speed  intelligence_strength  power_speed  power_strength  \\\n",
       "0               646.0                 3800.0        408.0          2400.0   \n",
       "1              3080.0                 2464.0       3500.0          2800.0   \n",
       "2              2650.0                 4500.0       5247.0          8910.0   \n",
       "3              3339.0                 5040.0       3286.0          4960.0   \n",
       "4              7304.0                 5544.0       8300.0          6300.0   \n",
       "\n",
       "   speed_strength  publisher_0  publisher_1  publisher_2  \n",
       "0          1700.0            1            0            0  \n",
       "1           980.0            0            0            1  \n",
       "2          4770.0            0            1            0  \n",
       "3          4240.0            1            0            0  \n",
       "4          5229.0            1            0            0  \n",
       "\n",
       "[5 rows x 35 columns]"
      ]
     },
     "execution_count": 4,
     "metadata": {},
     "output_type": "execute_result"
    }
   ],
   "source": [
    "X.head()"
   ]
  },
  {
   "cell_type": "code",
   "execution_count": 5,
   "metadata": {},
   "outputs": [
    {
     "data": {
      "text/plain": [
       "0    1\n",
       "1    1\n",
       "2    1\n",
       "3    0\n",
       "4    0\n",
       "Name: y, dtype: int64"
      ]
     },
     "execution_count": 5,
     "metadata": {},
     "output_type": "execute_result"
    }
   ],
   "source": [
    "y.head()"
   ]
  },
  {
   "cell_type": "code",
   "execution_count": 8,
   "metadata": {},
   "outputs": [],
   "source": [
    "#Selecting 20 best featuresto began testing models\n",
    "import sklearn.feature_selection\n",
    "\n",
    "select = sklearn.feature_selection.SelectKBest(k=20)\n",
    "selected_features = select.fit(X_train, y_train)\n",
    "indices_selected = selected_features.get_support(indices=True)\n",
    "colnames_selected = [X.columns[i] for i in indices_selected]\n",
    "\n",
    "X_train_selected = X_train[colnames_selected]\n",
    "X_test_selected = X_test[colnames_selected]"
   ]
  },
  {
   "cell_type": "code",
   "execution_count": 9,
   "metadata": {},
   "outputs": [
    {
     "name": "stdout",
     "output_type": "stream",
     "text": [
      "['alter-egos', 'relatives', 'intelligence', 'durability', 'strength', 'overall', 'durability.1', 'intelligence.1', 'strength.1', 'combat_durability', 'combat_strength', 'durability_intelligence', 'durability_power', 'durability_speed', 'durability_strength', 'intelligence_power', 'intelligence_strength', 'power_strength', 'speed_strength', 'publisher_2']\n"
     ]
    }
   ],
   "source": [
    "print(colnames_selected)"
   ]
  },
  {
   "cell_type": "markdown",
   "metadata": {},
   "source": [
    "## Logistic Regression"
   ]
  },
  {
   "cell_type": "code",
   "execution_count": 31,
   "metadata": {},
   "outputs": [],
   "source": [
    " calculate accuracy\n",
    "from sklearn import metrics\n",
    "y_pred_class = log.predict(X_test_selected)\n",
    "log_auc = metrics.accuracy_score(y_test, y_pred_class)"
   ]
  },
  {
   "cell_type": "code",
   "execution_count": 270,
   "metadata": {},
   "outputs": [
    {
     "name": "stdout",
     "output_type": "stream",
     "text": [
      "Accuracy: 0.7051282051282052\n"
     ]
    }
   ],
   "source": [
    "print('Accuracy:', log_auc)"
   ]
  },
  {
   "cell_type": "code",
   "execution_count": 219,
   "metadata": {},
   "outputs": [
    {
     "data": {
      "text/plain": [
       "1    56\n",
       "0    22\n",
       "Name: y, dtype: int64"
      ]
     },
     "execution_count": 219,
     "metadata": {},
     "output_type": "execute_result"
    }
   ],
   "source": [
    "# examine the class distribution of the testing set (using a Pandas Series method)\n",
    "y_test.value_counts()"
   ]
  },
  {
   "cell_type": "code",
   "execution_count": 220,
   "metadata": {},
   "outputs": [
    {
     "data": {
      "text/plain": [
       "0.717948717948718"
      ]
     },
     "execution_count": 220,
     "metadata": {},
     "output_type": "execute_result"
    }
   ],
   "source": [
    "# calculate the percentage of 'good'\n",
    "y_test.mean()"
   ]
  },
  {
   "cell_type": "code",
   "execution_count": 221,
   "metadata": {},
   "outputs": [
    {
     "data": {
      "text/plain": [
       "0.28205128205128205"
      ]
     },
     "execution_count": 221,
     "metadata": {},
     "output_type": "execute_result"
    }
   ],
   "source": [
    "# calculate the percentage of 'evil\n",
    "1 - y_test.mean()"
   ]
  },
  {
   "cell_type": "code",
   "execution_count": 228,
   "metadata": {},
   "outputs": [
    {
     "name": "stdout",
     "output_type": "stream",
     "text": [
      "True: [1 0 1 1 1 1 1 1 1 1 0 1 1 1 1 1 0 1 1 0 1 1 0 1 1]\n",
      "Pred: [1 1 1 1 1 1 1 1 1 1 1 1 1 0 1 1 1 1 1 1 1 1 1 1 0]\n"
     ]
    }
   ],
   "source": [
    "# print the first 25 true and predicted responses\n",
    "print('True:', y_test.values[0:25])\n",
    "print('Pred:', y_pred_class[0:25])"
   ]
  },
  {
   "cell_type": "markdown",
   "metadata": {},
   "source": [
    "## Naives Bayes"
   ]
  },
  {
   "cell_type": "code",
   "execution_count": 11,
   "metadata": {},
   "outputs": [],
   "source": [
    "from sklearn.naive_bayes import GaussianNB\n",
    "gnb = GaussianNB()\n",
    "gnb.fit(X_train_selected, y_train)\n",
    "y_predNB = gnb.predict(X_test_selected)"
   ]
  },
  {
   "cell_type": "code",
   "execution_count": 12,
   "metadata": {},
   "outputs": [
    {
     "name": "stdout",
     "output_type": "stream",
     "text": [
      "Accuracy: 0.5897435897435898\n"
     ]
    }
   ],
   "source": [
    "# Model Accuracy, how often is the classifier correct?\n",
    "print(\"Accuracy:\", metrics.accuracy_score(y_test, y_predNB))"
   ]
  },
  {
   "cell_type": "markdown",
   "metadata": {},
   "source": [
    "## Stochastic Gradient Descent"
   ]
  },
  {
   "cell_type": "code",
   "execution_count": 13,
   "metadata": {},
   "outputs": [],
   "source": [
    "from sklearn.linear_model import SGDClassifier\n",
    "sgd = SGDClassifier(max_iter= 10000)\n",
    "sgd.fit(X_train_selected, y_train)\n",
    "y_predsgd = sgd.predict(X_test_selected)"
   ]
  },
  {
   "cell_type": "code",
   "execution_count": 14,
   "metadata": {},
   "outputs": [
    {
     "name": "stdout",
     "output_type": "stream",
     "text": [
      "Accuracy: 0.6666666666666666\n"
     ]
    }
   ],
   "source": [
    "# Model Accuracy, how often is the classifier correct?\n",
    "print(\"Accuracy:\", metrics.accuracy_score(y_test, y_predsgd))"
   ]
  },
  {
   "cell_type": "markdown",
   "metadata": {},
   "source": [
    "## Decision Tree"
   ]
  },
  {
   "cell_type": "code",
   "execution_count": 15,
   "metadata": {},
   "outputs": [],
   "source": [
    "from sklearn.tree import DecisionTreeClassifier\n",
    "dt = DecisionTreeClassifier()\n",
    "dt.fit(X_train_selected, y_train)\n",
    "y_preddt = dt.predict(X_test_selected)"
   ]
  },
  {
   "cell_type": "code",
   "execution_count": 16,
   "metadata": {},
   "outputs": [
    {
     "name": "stdout",
     "output_type": "stream",
     "text": [
      "Accuracy: 0.7051282051282052\n"
     ]
    }
   ],
   "source": [
    "print(\"Accuracy:\", metrics.accuracy_score(y_test, y_preddt))"
   ]
  },
  {
   "cell_type": "markdown",
   "metadata": {},
   "source": [
    "## Random Forest "
   ]
  },
  {
   "cell_type": "code",
   "execution_count": 17,
   "metadata": {},
   "outputs": [],
   "source": [
    "from sklearn.ensemble import RandomForestClassifier\n",
    "rf = RandomForestClassifier(n_estimators=40)\n",
    "rf.fit(X_train_selected, y_train)\n",
    "y_predrf = rf.predict(X_test_selected)"
   ]
  },
  {
   "cell_type": "code",
   "execution_count": 18,
   "metadata": {},
   "outputs": [
    {
     "name": "stdout",
     "output_type": "stream",
     "text": [
      "Accuracy: 0.7051282051282052\n"
     ]
    }
   ],
   "source": [
    "print(\"Accuracy:\", metrics.accuracy_score(y_test, y_predrf))"
   ]
  },
  {
   "cell_type": "markdown",
   "metadata": {},
   "source": [
    "## SVM"
   ]
  },
  {
   "cell_type": "code",
   "execution_count": 19,
   "metadata": {},
   "outputs": [],
   "source": [
    "from sklearn.svm import SVC\n",
    "svm = SVC(gamma = 'auto')\n",
    "svm.fit(X_train_selected, y_train)\n",
    "y_predsvm = svm.predict(X_test_selected)"
   ]
  },
  {
   "cell_type": "code",
   "execution_count": 20,
   "metadata": {},
   "outputs": [
    {
     "name": "stdout",
     "output_type": "stream",
     "text": [
      "Accuracy: 0.6666666666666666\n"
     ]
    }
   ],
   "source": [
    "print(\"Accuracy:\", metrics.accuracy_score(y_test, y_predsvm))"
   ]
  },
  {
   "cell_type": "markdown",
   "metadata": {},
   "source": [
    "## K Nearest Neigbhors"
   ]
  },
  {
   "cell_type": "code",
   "execution_count": 21,
   "metadata": {},
   "outputs": [],
   "source": [
    "from sklearn.neighbors import KNeighborsClassifier\n",
    "neigh = KNeighborsClassifier(n_neighbors=5)\n",
    "neigh.fit(X_train_selected, y_train)\n",
    "y_predsneigh = neigh.predict(X_test_selected)"
   ]
  },
  {
   "cell_type": "code",
   "execution_count": 22,
   "metadata": {},
   "outputs": [
    {
     "name": "stdout",
     "output_type": "stream",
     "text": [
      "Accuracy: 0.6282051282051282\n"
     ]
    }
   ],
   "source": [
    "print(\"Accuracy:\", metrics.accuracy_score(y_test, y_predsneigh))"
   ]
  },
  {
   "cell_type": "markdown",
   "metadata": {},
   "source": [
    "## AdaBoost"
   ]
  },
  {
   "cell_type": "code",
   "execution_count": 23,
   "metadata": {},
   "outputs": [],
   "source": [
    "from sklearn.ensemble import AdaBoostClassifier\n",
    "ada = AdaBoostClassifier(n_estimators = 50, learning_rate = 0.3)\n",
    "ada.fit(X_train_selected, y_train)\n",
    "y_predsada = ada.predict(X_test_selected)"
   ]
  },
  {
   "cell_type": "code",
   "execution_count": 24,
   "metadata": {},
   "outputs": [
    {
     "name": "stdout",
     "output_type": "stream",
     "text": [
      "Accuracy: 0.6153846153846154\n"
     ]
    }
   ],
   "source": [
    "print(\"Accuracy:\", metrics.accuracy_score(y_test, y_predsada))"
   ]
  },
  {
   "cell_type": "markdown",
   "metadata": {},
   "source": [
    "## Gradient Boost"
   ]
  },
  {
   "cell_type": "code",
   "execution_count": 25,
   "metadata": {},
   "outputs": [],
   "source": [
    "from sklearn.ensemble import GradientBoostingClassifier\n",
    "gb = GradientBoostingClassifier(n_estimators = 100, learning_rate = 0.8)\n",
    "gb.fit(X_train_selected, y_train)\n",
    "y_predsg_b = gb.predict(X_test_selected)"
   ]
  },
  {
   "cell_type": "code",
   "execution_count": 26,
   "metadata": {},
   "outputs": [
    {
     "name": "stdout",
     "output_type": "stream",
     "text": [
      "Accuracy: 0.6410256410256411\n"
     ]
    }
   ],
   "source": [
    "print(\"Accuracy:\", metrics.accuracy_score(y_test, y_predsg_b))"
   ]
  },
  {
   "cell_type": "code",
   "execution_count": 32,
   "metadata": {},
   "outputs": [],
   "source": [
    "scores_dict = { \n",
    "               'Logistic Regression': log_auc,\n",
    "               'Naives Bayes': metrics.accuracy_score(y_test, y_predNB),\n",
    "               'KNN': metrics.accuracy_score(y_test, y_predsneigh),\n",
    "               'Decision Trees': metrics.accuracy_score(y_test, y_preddt),\n",
    "               'Random Forest': metrics.accuracy_score(y_test, y_predrf),\n",
    "               'SVM': metrics.accuracy_score(y_test, y_predsvm),\n",
    "               'AdaBoost': metrics.accuracy_score(y_test, y_predsada),\n",
    "               'Stochastic Gradient Descent': metrics.accuracy_score(y_test, y_predsgd),\n",
    "               'Gradient Boost': metrics.accuracy_score(y_test, y_predsg_b),\n",
    "               'Average' :scores_df['Accuracy'].mean()\n",
    "\n",
    "}"
   ]
  },
  {
   "cell_type": "code",
   "execution_count": 720,
   "metadata": {},
   "outputs": [
    {
     "data": {
      "text/plain": [
       "{'Logistic Regression': 0.7051282051282052,\n",
       " 'Naives Bayes': 0.6025641025641025,\n",
       " 'KNN': 0.7051282051282052,\n",
       " 'Decision Trees': 0.48717948717948717,\n",
       " 'Random Forest': 0.6538461538461539,\n",
       " 'SVM': 0.6923076923076923,\n",
       " 'AdaBoost': 0.7307692307692307,\n",
       " 'Stochastic Gradient Descent': 0.717948717948718,\n",
       " 'Gradient Boost': 0.717948717948718,\n",
       " 'Average': 0.6680911680911681}"
      ]
     },
     "execution_count": 720,
     "metadata": {},
     "output_type": "execute_result"
    }
   ],
   "source": [
    "scores_dict"
   ]
  },
  {
   "cell_type": "code",
   "execution_count": 721,
   "metadata": {},
   "outputs": [
    {
     "data": {
      "text/html": [
       "<div>\n",
       "<style scoped>\n",
       "    .dataframe tbody tr th:only-of-type {\n",
       "        vertical-align: middle;\n",
       "    }\n",
       "\n",
       "    .dataframe tbody tr th {\n",
       "        vertical-align: top;\n",
       "    }\n",
       "\n",
       "    .dataframe thead th {\n",
       "        text-align: right;\n",
       "    }\n",
       "</style>\n",
       "<table border=\"1\" class=\"dataframe\">\n",
       "  <thead>\n",
       "    <tr style=\"text-align: right;\">\n",
       "      <th></th>\n",
       "      <th>Accuracy</th>\n",
       "    </tr>\n",
       "  </thead>\n",
       "  <tbody>\n",
       "    <tr>\n",
       "      <th>Logistic Regression</th>\n",
       "      <td>0.705128</td>\n",
       "    </tr>\n",
       "    <tr>\n",
       "      <th>Naives Bayes</th>\n",
       "      <td>0.602564</td>\n",
       "    </tr>\n",
       "    <tr>\n",
       "      <th>KNN</th>\n",
       "      <td>0.705128</td>\n",
       "    </tr>\n",
       "    <tr>\n",
       "      <th>Decision Trees</th>\n",
       "      <td>0.487179</td>\n",
       "    </tr>\n",
       "    <tr>\n",
       "      <th>Random Forest</th>\n",
       "      <td>0.653846</td>\n",
       "    </tr>\n",
       "    <tr>\n",
       "      <th>SVM</th>\n",
       "      <td>0.692308</td>\n",
       "    </tr>\n",
       "    <tr>\n",
       "      <th>AdaBoost</th>\n",
       "      <td>0.730769</td>\n",
       "    </tr>\n",
       "    <tr>\n",
       "      <th>Stochastic Gradient Descent</th>\n",
       "      <td>0.717949</td>\n",
       "    </tr>\n",
       "    <tr>\n",
       "      <th>Gradient Boost</th>\n",
       "      <td>0.717949</td>\n",
       "    </tr>\n",
       "    <tr>\n",
       "      <th>Average</th>\n",
       "      <td>0.668091</td>\n",
       "    </tr>\n",
       "  </tbody>\n",
       "</table>\n",
       "</div>"
      ],
      "text/plain": [
       "                             Accuracy\n",
       "Logistic Regression          0.705128\n",
       "Naives Bayes                 0.602564\n",
       "KNN                          0.705128\n",
       "Decision Trees               0.487179\n",
       "Random Forest                0.653846\n",
       "SVM                          0.692308\n",
       "AdaBoost                     0.730769\n",
       "Stochastic Gradient Descent  0.717949\n",
       "Gradient Boost               0.717949\n",
       "Average                      0.668091"
      ]
     },
     "execution_count": 721,
     "metadata": {},
     "output_type": "execute_result"
    }
   ],
   "source": [
    "scores_df = pd.DataFrame(scores_dict, index = ['Accuracy']).T\n",
    "scores_df"
   ]
  },
  {
   "cell_type": "code",
   "execution_count": 722,
   "metadata": {},
   "outputs": [
    {
     "data": {
      "text/plain": [
       "{'scores_mean': 0.6680911680911681}"
      ]
     },
     "execution_count": 722,
     "metadata": {},
     "output_type": "execute_result"
    }
   ],
   "source": [
    "scores_dict = {'scores_mean':scores_df['Accuracy'].mean()}\n",
    "scores_dict"
   ]
  },
  {
   "cell_type": "markdown",
   "metadata": {},
   "source": [
    "## Confusion Matrices "
   ]
  },
  {
   "cell_type": "code",
   "execution_count": 704,
   "metadata": {},
   "outputs": [
    {
     "name": "stdout",
     "output_type": "stream",
     "text": [
      "Logistic Regression Confusion Matrix\n",
      " [[ 0 22]\n",
      " [ 0 56]]\n"
     ]
    }
   ],
   "source": [
    "log_con_matrix = metrics.confusion_matrix(y_test, y_pred_class)\n",
    "print('Logistic Regression Confusion Matrix' '\\n', metrics.confusion_matrix(y_test, y_pred_class))"
   ]
  },
  {
   "cell_type": "code",
   "execution_count": 421,
   "metadata": {},
   "outputs": [
    {
     "name": "stdout",
     "output_type": "stream",
     "text": [
      "Naives Bayes Confusion Matrix\n",
      " [[ 5 17]\n",
      " [14 42]]\n"
     ]
    }
   ],
   "source": [
    "print('Naives Bayes Confusion Matrix' '\\n',metrics.confusion_matrix((y_test, y_predNB))"
   ]
  },
  {
   "cell_type": "code",
   "execution_count": 422,
   "metadata": {},
   "outputs": [
    {
     "name": "stdout",
     "output_type": "stream",
     "text": [
      "KNN Confusion Matrix\n",
      " [[ 4 18]\n",
      " [ 5 51]]\n"
     ]
    }
   ],
   "source": [
    "print('KNN Confusion Matrix' '\\n',metrics.confusion_matrix(y_test, y_predsneigh))"
   ]
  },
  {
   "cell_type": "code",
   "execution_count": 423,
   "metadata": {},
   "outputs": [
    {
     "name": "stdout",
     "output_type": "stream",
     "text": [
      "Decision Trees Confusion Matrix\n",
      " [[ 8 14]\n",
      " [26 30]]\n"
     ]
    }
   ],
   "source": [
    "print('Decision Trees Confusion Matrix' '\\n',metrics.confusion_matrix(y_test, y_preddt))"
   ]
  },
  {
   "cell_type": "code",
   "execution_count": 424,
   "metadata": {},
   "outputs": [
    {
     "name": "stdout",
     "output_type": "stream",
     "text": [
      "Random Forest Confusion Matrix\n",
      " [[ 4 18]\n",
      " [ 9 47]]\n"
     ]
    }
   ],
   "source": [
    "print('Random Forest Confusion Matrix' '\\n',metrics.confusion_matrix(y_test, y_predrf))"
   ]
  },
  {
   "cell_type": "code",
   "execution_count": 425,
   "metadata": {},
   "outputs": [
    {
     "name": "stdout",
     "output_type": "stream",
     "text": [
      "SVM Confusion Matrix\n",
      " [[ 1 21]\n",
      " [ 3 53]]\n"
     ]
    }
   ],
   "source": [
    "print('SVM Confusion Matrix' '\\n',metrics.confusion_matrix(y_test, y_predsvm))"
   ]
  },
  {
   "cell_type": "code",
   "execution_count": 426,
   "metadata": {},
   "outputs": [
    {
     "name": "stdout",
     "output_type": "stream",
     "text": [
      "AdaBoost Confusion Matrix\n",
      " [[ 2 20]\n",
      " [ 1 55]]\n"
     ]
    }
   ],
   "source": [
    "print('AdaBoost Confusion Matrix' '\\n',metrics.confusion_matrix(y_test, y_predsada))"
   ]
  },
  {
   "cell_type": "code",
   "execution_count": 713,
   "metadata": {},
   "outputs": [
    {
     "name": "stdout",
     "output_type": "stream",
     "text": [
      "Stochastic Gradient Descent Confusion Matrix\n",
      " [[ 1 21]\n",
      " [ 1 55]]\n"
     ]
    }
   ],
   "source": [
    "sgd_con_matrix = metrics.confusion_matrix(y_test, y_predsgb)\n",
    "print('Stochastic Gradient Descent Confusion Matrix' '\\n',metrics.confusion_matrix(y_test, y_predsgb))"
   ]
  },
  {
   "cell_type": "code",
   "execution_count": 705,
   "metadata": {},
   "outputs": [
    {
     "name": "stdout",
     "output_type": "stream",
     "text": [
      "Gradient Boost Confusion Matrix\n",
      " [[ 7 15]\n",
      " [ 7 49]]\n"
     ]
    }
   ],
   "source": [
    "gr_con_matrix = metrics.confusion_matrix(y_test, y_predsg_b)\n",
    "print('Gradient Boost Confusion Matrix' '\\n',metrics.confusion_matrix(y_test, y_predsg_b))"
   ]
  },
  {
   "cell_type": "markdown",
   "metadata": {},
   "source": [
    "### Exploring Adaboost"
   ]
  },
  {
   "cell_type": "code",
   "execution_count": 442,
   "metadata": {},
   "outputs": [
    {
     "name": "stdout",
     "output_type": "stream",
     "text": [
      "AdaBoost Confusion Matrix\n",
      " [[ 2 20]\n",
      " [ 1 55]]\n"
     ]
    }
   ],
   "source": [
    "print('AdaBoost Confusion Matrix' '\\n',metrics.confusion_matrix(y_test, y_predsada))"
   ]
  },
  {
   "cell_type": "code",
   "execution_count": 456,
   "metadata": {},
   "outputs": [],
   "source": [
    "# ada_confusion = metrics.confusion_matrix(y_test, y_predsada)\n",
    "TP = ada_confusion[1, 1]\n",
    "TN = ada_confusion[0, 0]\n",
    "FP = ada_confusion[0, 1]\n",
    "FN = ada_confusion[1, 0]"
   ]
  },
  {
   "cell_type": "code",
   "execution_count": 457,
   "metadata": {},
   "outputs": [],
   "source": [
    "from sklearn.metrics import confusion_matrix\n",
    "cm = confusion_matrix(y_test,y_predsada)\n",
    "classes = ['Villain', 'Hero']"
   ]
  },
  {
   "cell_type": "code",
   "execution_count": 458,
   "metadata": {},
   "outputs": [],
   "source": [
    "#Function to plot confusion matrices\n",
    "def plot_confusion_matrix(cm, classes,\n",
    "                          normalize=False,\n",
    "                          title='Confusion matrix',\n",
    "                          cmap=plt.cm.Blues):\n",
    "    \"\"\"\n",
    "    This function prints and plots the confusion matrix.\n",
    "    Normalization can be applied by setting `normalize=True`.\n",
    "    \"\"\"\n",
    "    if normalize:\n",
    "        cm = cm.astype('float') / cm.sum(axis=1)[:, np.newaxis]\n",
    "        print(\"Normalized confusion matrix\")\n",
    "    else:\n",
    "        print('Confusion Matrix, without normalization')\n",
    "\n",
    "    print(cm)\n",
    "\n",
    "    plt.imshow(cm, interpolation='nearest', cmap=cmap)\n",
    "    plt.title(title)\n",
    "    plt.colorbar()\n",
    "    tick_marks = np.arange(len(classes))\n",
    "    plt.xticks(tick_marks, classes, rotation=45)\n",
    "    plt.yticks(tick_marks, classes)\n",
    "\n",
    "    fmt = '.2f' if normalize else 'd'\n",
    "    thresh = cm.max() / 2.\n",
    "    for i, j in itertools.product(range(cm.shape[0]), range(cm.shape[1])):\n",
    "        plt.text(j, i, format(cm[i, j], fmt),\n",
    "                 horizontalalignment=\"center\",\n",
    "                 color=\"white\" if cm[i, j] > thresh else \"black\")\n",
    "\n",
    "    plt.tight_layout()\n",
    "    plt.ylabel('True label')\n",
    "    plt.xlabel('Predicted label')"
   ]
  },
  {
   "cell_type": "code",
   "execution_count": 798,
   "metadata": {},
   "outputs": [
    {
     "name": "stdout",
     "output_type": "stream",
     "text": [
      "Confusion Matrix, without normalization\n",
      "[[ 0 22]\n",
      " [ 0 56]]\n"
     ]
    },
    {
     "data": {
      "image/png": "[encoded data removed]",
      "text/plain": [
       "<Figure size 864x576 with 2 Axes>"
      ]
     },
     "metadata": {
      "needs_background": "light"
     },
     "output_type": "display_data"
    }
   ],
   "source": [
    "import itertools\n",
    "plt.subplots(figsize = (12,8))\n",
    "plot_confusion_matrix(log_con_matrix, classes,\n",
    "                          normalize=False,\n",
    "                          title='Logistic Regression Confusion matrix',\n",
    "                          cmap= 'OrRd')"
   ]
  },
  {
   "cell_type": "code",
   "execution_count": 797,
   "metadata": {},
   "outputs": [
    {
     "name": "stdout",
     "output_type": "stream",
     "text": [
      "Confusion Matrix, without normalization\n",
      "[[ 0 22]\n",
      " [ 0 56]]\n"
     ]
    },
    {
     "data": {
      "image/png": "[encoded data removed]",
      "text/plain": [
       "<Figure size 864x576 with 2 Axes>"
      ]
     },
     "metadata": {
      "needs_background": "light"
     },
     "output_type": "display_data"
    }
   ],
   "source": [
    "plt.subplots(figsize = (12,8))\n",
    "plot_confusion_matrix(gr_con_matrix, classes,\n",
    "                          normalize=False,\n",
    "                          title='Gradient Confusion matrix',\n",
    "                          cmap= 'OrRd')"
   ]
  },
  {
   "cell_type": "code",
   "execution_count": 715,
   "metadata": {},
   "outputs": [
    {
     "name": "stdout",
     "output_type": "stream",
     "text": [
      "Confusion Matrix, without normalization\n",
      "[[ 1 21]\n",
      " [ 1 55]]\n"
     ]
    },
    {
     "data": {
      "image/png": "[encoded data removed]",
      "text/plain": [
       "<Figure size 864x576 with 2 Axes>"
      ]
     },
     "metadata": {
      "needs_background": "light"
     },
     "output_type": "display_data"
    }
   ],
   "source": [
    "plt.subplots(figsize = (12,8))\n",
    "plot_confusion_matrix(sgd_con_matrix, classes,\n",
    "                          normalize=False,\n",
    "                          title='Stochastic Grarident Boosting Confusion matrix',\n",
    "                          cmap= 'OrRd')"
   ]
  },
  {
   "cell_type": "code",
   "execution_count": 800,
   "metadata": {},
   "outputs": [
    {
     "name": "stdout",
     "output_type": "stream",
     "text": [
      "Confusion Matrix, without normalization\n",
      "[[ 2 20]\n",
      " [ 1 55]]\n"
     ]
    },
    {
     "data": {
      "image/png": "[encoded data removed]",
      "text/plain": [
       "<Figure size 864x576 with 2 Axes>"
      ]
     },
     "metadata": {
      "needs_background": "light"
     },
     "output_type": "display_data"
    }
   ],
   "source": [
    "plt.subplots(figsize = (12,8))\n",
    "plot_confusion_matrix(ada_confusion, classes,\n",
    "                          normalize=False,\n",
    "                          title='Adaboost Confusion matrix',\n",
    "                          cmap= 'OrRd')"
   ]
  },
  {
   "cell_type": "code",
   "execution_count": 725,
   "metadata": {},
   "outputs": [
    {
     "data": {
      "text/plain": [
       "({'Logistic Regression Calculation Accuarcy': 0.7307692307692307},\n",
       " {'Gradient Boost Calculation Accuracy': 0.717948717948718},\n",
       " {'Stochastic Gradient Descent Calculation Accuarcy': 0.717948717948718})"
      ]
     },
     "execution_count": 725,
     "metadata": {},
     "output_type": "execute_result"
    }
   ],
   "source": [
    "x = { 'Logistic Regression Calculation Accuarcy': metrics.accuracy_score(y_test, y_predsada) }\n",
    "o = { 'Gradient Boost Calculation Accuracy': metrics.accuracy_score(y_test, y_predsgb) }\n",
    "b = { 'Stochastic Gradient Descent Calculation Accuarcy':metrics.accuracy_score(y_test, y_predsgd) }\n"
   ]
  },
  {
   "cell_type": "code",
   "execution_count": 460,
   "metadata": {},
   "outputs": [
    {
     "name": "stdout",
     "output_type": "stream",
     "text": [
      "Classication Accuracy\n",
      "0.7307692307692307\n"
     ]
    }
   ],
   "source": [
    "print('Classication Accuracy')\n",
    "print(metrics.accuracy_score(y_test, y_predsada))"
   ]
  },
  {
   "cell_type": "code",
   "execution_count": 461,
   "metadata": {},
   "outputs": [
    {
     "name": "stdout",
     "output_type": "stream",
     "text": [
      "Classication Error\n",
      "0.2692307692307693\n"
     ]
    }
   ],
   "source": [
    "print('Classication Error')\n",
    "print(1 - metrics.accuracy_score(y_test, y_predsada))"
   ]
  },
  {
   "cell_type": "code",
   "execution_count": 462,
   "metadata": {},
   "outputs": [
    {
     "name": "stdout",
     "output_type": "stream",
     "text": [
      "Recall\n",
      "0.9821428571428571\n"
     ]
    }
   ],
   "source": [
    "print('Recall')\n",
    "print(metrics.recall_score(y_test, y_predsada))"
   ]
  },
  {
   "cell_type": "code",
   "execution_count": 463,
   "metadata": {},
   "outputs": [
    {
     "name": "stdout",
     "output_type": "stream",
     "text": [
      "Specificity\n",
      "0.09090909090909091\n"
     ]
    }
   ],
   "source": [
    "print('Specificity')\n",
    "print(TN / float(TN + FP))"
   ]
  },
  {
   "cell_type": "code",
   "execution_count": 464,
   "metadata": {},
   "outputs": [
    {
     "name": "stdout",
     "output_type": "stream",
     "text": [
      "False Positive\n",
      "0.9090909090909091\n"
     ]
    }
   ],
   "source": [
    "print('False Positive')\n",
    "print(FP / float(TN + FP))"
   ]
  },
  {
   "cell_type": "code",
   "execution_count": 465,
   "metadata": {},
   "outputs": [
    {
     "name": "stdout",
     "output_type": "stream",
     "text": [
      "Precision\n",
      "0.7333333333333333\n"
     ]
    }
   ],
   "source": [
    "print('Precision')\n",
    "print(metrics.precision_score(y_test, y_predsada))"
   ]
  },
  {
   "cell_type": "code",
   "execution_count": 466,
   "metadata": {},
   "outputs": [
    {
     "name": "stdout",
     "output_type": "stream",
     "text": [
      "F1 Score\n",
      "0.8396946564885496\n"
     ]
    }
   ],
   "source": [
    "print('F1 Score')\n",
    "print(2*(metrics.precision_score(y_test, y_predsada)*metrics.recall_score(y_test, y_predsada))/(metrics.precision_score(y_test, y_predsada)+metrics.recall_score(y_test, y_predsada)))"
   ]
  },
  {
   "cell_type": "code",
   "execution_count": 820,
   "metadata": {},
   "outputs": [
    {
     "data": {
      "text/plain": [
       "{'Classification Accuracy': 0.6153846153846154,\n",
       " 'Classification Error': 0.3846153846153846,\n",
       " 'Recall': 0.8148148148148148,\n",
       " 'Specificity': 0.09090909090909091,\n",
       " 'False Positive': 0.9090909090909091,\n",
       " 'Precision': 0.6875,\n",
       " 'F1 Score': 0.7457627118644067}"
      ]
     },
     "execution_count": 820,
     "metadata": {},
     "output_type": "execute_result"
    }
   ],
   "source": [
    "class_metrics_dict  =  { \n",
    "               'Classification Accuracy': metrics.accuracy_score(y_test, y_predsg_b),\n",
    "               'Classification Error': (1 - metrics.accuracy_score(y_test, y_predsg_b)),\n",
    "               'Recall': (metrics.recall_score(y_test, y_predsg_b)),\n",
    "               'Specificity': (TN / float(TN + FP)),\n",
    "               'False Positive': (FP / float(TN + FP)),\n",
    "               'Precision': (metrics.precision_score(y_test, y_predsg_b)),\n",
    "               'F1 Score': (2*(metrics.precision_score(y_test, y_predsg_b)\n",
    "                             *metrics.recall_score(y_test, y_predsg_b))\n",
    "                             /(metrics.precision_score(y_test, y_predsg_b)\n",
    "                             +metrics.recall_score(y_test, y_predsg_b))), \n",
    "               }    \n",
    "class_metrics_dict"
   ]
  },
  {
   "cell_type": "code",
   "execution_count": 812,
   "metadata": {},
   "outputs": [
    {
     "data": {
      "text/html": [
       "<div>\n",
       "<style scoped>\n",
       "    .dataframe tbody tr th:only-of-type {\n",
       "        vertical-align: middle;\n",
       "    }\n",
       "\n",
       "    .dataframe tbody tr th {\n",
       "        vertical-align: top;\n",
       "    }\n",
       "\n",
       "    .dataframe thead th {\n",
       "        text-align: right;\n",
       "    }\n",
       "</style>\n",
       "<table border=\"1\" class=\"dataframe\">\n",
       "  <thead>\n",
       "    <tr style=\"text-align: right;\">\n",
       "      <th></th>\n",
       "      <th>alter-egos</th>\n",
       "      <th>relatives</th>\n",
       "      <th>occupation</th>\n",
       "      <th>base</th>\n",
       "      <th>combat</th>\n",
       "      <th>speed</th>\n",
       "      <th>intelligence</th>\n",
       "      <th>power</th>\n",
       "      <th>durability</th>\n",
       "      <th>strength</th>\n",
       "      <th>...</th>\n",
       "      <th>intelligence_power</th>\n",
       "      <th>intelligence_speed</th>\n",
       "      <th>intelligence_strength</th>\n",
       "      <th>power_speed</th>\n",
       "      <th>power_strength</th>\n",
       "      <th>speed_strength</th>\n",
       "      <th>publisher_0</th>\n",
       "      <th>publisher_1</th>\n",
       "      <th>publisher_2</th>\n",
       "      <th>y</th>\n",
       "    </tr>\n",
       "  </thead>\n",
       "  <tbody>\n",
       "    <tr>\n",
       "      <th>0</th>\n",
       "      <td>0.0</td>\n",
       "      <td>1.0</td>\n",
       "      <td>1.0</td>\n",
       "      <td>0.0</td>\n",
       "      <td>64.0</td>\n",
       "      <td>17.0</td>\n",
       "      <td>38.0</td>\n",
       "      <td>24.0</td>\n",
       "      <td>80.0</td>\n",
       "      <td>100.0</td>\n",
       "      <td>...</td>\n",
       "      <td>912.0</td>\n",
       "      <td>646.0</td>\n",
       "      <td>3800.0</td>\n",
       "      <td>408.0</td>\n",
       "      <td>2400.0</td>\n",
       "      <td>1700.0</td>\n",
       "      <td>1</td>\n",
       "      <td>0</td>\n",
       "      <td>0</td>\n",
       "      <td>1</td>\n",
       "    </tr>\n",
       "    <tr>\n",
       "      <th>1</th>\n",
       "      <td>0.0</td>\n",
       "      <td>1.0</td>\n",
       "      <td>1.0</td>\n",
       "      <td>0.0</td>\n",
       "      <td>85.0</td>\n",
       "      <td>35.0</td>\n",
       "      <td>88.0</td>\n",
       "      <td>100.0</td>\n",
       "      <td>65.0</td>\n",
       "      <td>28.0</td>\n",
       "      <td>...</td>\n",
       "      <td>8800.0</td>\n",
       "      <td>3080.0</td>\n",
       "      <td>2464.0</td>\n",
       "      <td>3500.0</td>\n",
       "      <td>2800.0</td>\n",
       "      <td>980.0</td>\n",
       "      <td>0</td>\n",
       "      <td>0</td>\n",
       "      <td>1</td>\n",
       "      <td>1</td>\n",
       "    </tr>\n",
       "    <tr>\n",
       "      <th>2</th>\n",
       "      <td>0.0</td>\n",
       "      <td>1.0</td>\n",
       "      <td>1.0</td>\n",
       "      <td>1.0</td>\n",
       "      <td>65.0</td>\n",
       "      <td>53.0</td>\n",
       "      <td>50.0</td>\n",
       "      <td>99.0</td>\n",
       "      <td>64.0</td>\n",
       "      <td>90.0</td>\n",
       "      <td>...</td>\n",
       "      <td>4950.0</td>\n",
       "      <td>2650.0</td>\n",
       "      <td>4500.0</td>\n",
       "      <td>5247.0</td>\n",
       "      <td>8910.0</td>\n",
       "      <td>4770.0</td>\n",
       "      <td>0</td>\n",
       "      <td>1</td>\n",
       "      <td>0</td>\n",
       "      <td>1</td>\n",
       "    </tr>\n",
       "    <tr>\n",
       "      <th>3</th>\n",
       "      <td>0.0</td>\n",
       "      <td>1.0</td>\n",
       "      <td>1.0</td>\n",
       "      <td>1.0</td>\n",
       "      <td>95.0</td>\n",
       "      <td>53.0</td>\n",
       "      <td>63.0</td>\n",
       "      <td>62.0</td>\n",
       "      <td>90.0</td>\n",
       "      <td>80.0</td>\n",
       "      <td>...</td>\n",
       "      <td>3906.0</td>\n",
       "      <td>3339.0</td>\n",
       "      <td>5040.0</td>\n",
       "      <td>3286.0</td>\n",
       "      <td>4960.0</td>\n",
       "      <td>4240.0</td>\n",
       "      <td>1</td>\n",
       "      <td>0</td>\n",
       "      <td>0</td>\n",
       "      <td>0</td>\n",
       "    </tr>\n",
       "    <tr>\n",
       "      <th>4</th>\n",
       "      <td>0.0</td>\n",
       "      <td>1.0</td>\n",
       "      <td>1.0</td>\n",
       "      <td>0.0</td>\n",
       "      <td>55.0</td>\n",
       "      <td>83.0</td>\n",
       "      <td>88.0</td>\n",
       "      <td>100.0</td>\n",
       "      <td>100.0</td>\n",
       "      <td>63.0</td>\n",
       "      <td>...</td>\n",
       "      <td>8800.0</td>\n",
       "      <td>7304.0</td>\n",
       "      <td>5544.0</td>\n",
       "      <td>8300.0</td>\n",
       "      <td>6300.0</td>\n",
       "      <td>5229.0</td>\n",
       "      <td>1</td>\n",
       "      <td>0</td>\n",
       "      <td>0</td>\n",
       "      <td>0</td>\n",
       "    </tr>\n",
       "  </tbody>\n",
       "</table>\n",
       "<p>5 rows × 36 columns</p>\n",
       "</div>"
      ],
      "text/plain": [
       "   alter-egos  relatives  occupation  base  combat  speed  intelligence  \\\n",
       "0         0.0        1.0         1.0   0.0    64.0   17.0          38.0   \n",
       "1         0.0        1.0         1.0   0.0    85.0   35.0          88.0   \n",
       "2         0.0        1.0         1.0   1.0    65.0   53.0          50.0   \n",
       "3         0.0        1.0         1.0   1.0    95.0   53.0          63.0   \n",
       "4         0.0        1.0         1.0   0.0    55.0   83.0          88.0   \n",
       "\n",
       "   power  durability  strength  ...  intelligence_power  intelligence_speed  \\\n",
       "0   24.0        80.0     100.0  ...               912.0               646.0   \n",
       "1  100.0        65.0      28.0  ...              8800.0              3080.0   \n",
       "2   99.0        64.0      90.0  ...              4950.0              2650.0   \n",
       "3   62.0        90.0      80.0  ...              3906.0              3339.0   \n",
       "4  100.0       100.0      63.0  ...              8800.0              7304.0   \n",
       "\n",
       "   intelligence_strength  power_speed  power_strength  speed_strength  \\\n",
       "0                 3800.0        408.0          2400.0          1700.0   \n",
       "1                 2464.0       3500.0          2800.0           980.0   \n",
       "2                 4500.0       5247.0          8910.0          4770.0   \n",
       "3                 5040.0       3286.0          4960.0          4240.0   \n",
       "4                 5544.0       8300.0          6300.0          5229.0   \n",
       "\n",
       "   publisher_0  publisher_1  publisher_2  y  \n",
       "0            1            0            0  1  \n",
       "1            0            0            1  1  \n",
       "2            0            1            0  1  \n",
       "3            1            0            0  0  \n",
       "4            1            0            0  0  \n",
       "\n",
       "[5 rows x 36 columns]"
      ]
     },
     "execution_count": 812,
     "metadata": {},
     "output_type": "execute_result"
    }
   ],
   "source": [
    "t = pd.read_csv('testing_dataset.csv')\n",
    "t.head()"
   ]
  },
  {
   "cell_type": "code",
   "execution_count": 814,
   "metadata": {},
   "outputs": [],
   "source": [
    "X = t.drop('y', axis = 1)"
   ]
  },
  {
   "cell_type": "code",
   "execution_count": 813,
   "metadata": {},
   "outputs": [],
   "source": [
    "y = t['y']"
   ]
  },
  {
   "cell_type": "code",
   "execution_count": 807,
   "metadata": {},
   "outputs": [],
   "source": [
    "X['y'] = t['y']\n",
    "y = t['y']"
   ]
  },
  {
   "cell_type": "code",
   "execution_count": 808,
   "metadata": {},
   "outputs": [
    {
     "data": {
      "text/html": [
       "<div>\n",
       "<style scoped>\n",
       "    .dataframe tbody tr th:only-of-type {\n",
       "        vertical-align: middle;\n",
       "    }\n",
       "\n",
       "    .dataframe tbody tr th {\n",
       "        vertical-align: top;\n",
       "    }\n",
       "\n",
       "    .dataframe thead th {\n",
       "        text-align: right;\n",
       "    }\n",
       "</style>\n",
       "<table border=\"1\" class=\"dataframe\">\n",
       "  <thead>\n",
       "    <tr style=\"text-align: right;\">\n",
       "      <th></th>\n",
       "      <th>alter-egos</th>\n",
       "      <th>relatives</th>\n",
       "      <th>occupation</th>\n",
       "      <th>base</th>\n",
       "      <th>combat</th>\n",
       "      <th>speed</th>\n",
       "      <th>intelligence</th>\n",
       "      <th>power</th>\n",
       "      <th>durability</th>\n",
       "      <th>strength</th>\n",
       "      <th>...</th>\n",
       "      <th>durability_strength</th>\n",
       "      <th>intelligence_power</th>\n",
       "      <th>intelligence_speed</th>\n",
       "      <th>intelligence_strength</th>\n",
       "      <th>power_speed</th>\n",
       "      <th>power_strength</th>\n",
       "      <th>speed_strength</th>\n",
       "      <th>publisher_0</th>\n",
       "      <th>publisher_1</th>\n",
       "      <th>publisher_2</th>\n",
       "    </tr>\n",
       "  </thead>\n",
       "  <tbody>\n",
       "    <tr>\n",
       "      <th>0</th>\n",
       "      <td>0.0</td>\n",
       "      <td>1.0</td>\n",
       "      <td>1.0</td>\n",
       "      <td>0.0</td>\n",
       "      <td>64.0</td>\n",
       "      <td>17.0</td>\n",
       "      <td>38.0</td>\n",
       "      <td>24.0</td>\n",
       "      <td>80.0</td>\n",
       "      <td>100.0</td>\n",
       "      <td>...</td>\n",
       "      <td>8000.0</td>\n",
       "      <td>912.0</td>\n",
       "      <td>646.0</td>\n",
       "      <td>3800.0</td>\n",
       "      <td>408.0</td>\n",
       "      <td>2400.0</td>\n",
       "      <td>1700.0</td>\n",
       "      <td>1</td>\n",
       "      <td>0</td>\n",
       "      <td>0</td>\n",
       "    </tr>\n",
       "    <tr>\n",
       "      <th>1</th>\n",
       "      <td>0.0</td>\n",
       "      <td>1.0</td>\n",
       "      <td>1.0</td>\n",
       "      <td>0.0</td>\n",
       "      <td>85.0</td>\n",
       "      <td>35.0</td>\n",
       "      <td>88.0</td>\n",
       "      <td>100.0</td>\n",
       "      <td>65.0</td>\n",
       "      <td>28.0</td>\n",
       "      <td>...</td>\n",
       "      <td>1820.0</td>\n",
       "      <td>8800.0</td>\n",
       "      <td>3080.0</td>\n",
       "      <td>2464.0</td>\n",
       "      <td>3500.0</td>\n",
       "      <td>2800.0</td>\n",
       "      <td>980.0</td>\n",
       "      <td>0</td>\n",
       "      <td>0</td>\n",
       "      <td>1</td>\n",
       "    </tr>\n",
       "    <tr>\n",
       "      <th>2</th>\n",
       "      <td>0.0</td>\n",
       "      <td>1.0</td>\n",
       "      <td>1.0</td>\n",
       "      <td>1.0</td>\n",
       "      <td>65.0</td>\n",
       "      <td>53.0</td>\n",
       "      <td>50.0</td>\n",
       "      <td>99.0</td>\n",
       "      <td>64.0</td>\n",
       "      <td>90.0</td>\n",
       "      <td>...</td>\n",
       "      <td>5760.0</td>\n",
       "      <td>4950.0</td>\n",
       "      <td>2650.0</td>\n",
       "      <td>4500.0</td>\n",
       "      <td>5247.0</td>\n",
       "      <td>8910.0</td>\n",
       "      <td>4770.0</td>\n",
       "      <td>0</td>\n",
       "      <td>1</td>\n",
       "      <td>0</td>\n",
       "    </tr>\n",
       "    <tr>\n",
       "      <th>3</th>\n",
       "      <td>0.0</td>\n",
       "      <td>1.0</td>\n",
       "      <td>1.0</td>\n",
       "      <td>1.0</td>\n",
       "      <td>95.0</td>\n",
       "      <td>53.0</td>\n",
       "      <td>63.0</td>\n",
       "      <td>62.0</td>\n",
       "      <td>90.0</td>\n",
       "      <td>80.0</td>\n",
       "      <td>...</td>\n",
       "      <td>7200.0</td>\n",
       "      <td>3906.0</td>\n",
       "      <td>3339.0</td>\n",
       "      <td>5040.0</td>\n",
       "      <td>3286.0</td>\n",
       "      <td>4960.0</td>\n",
       "      <td>4240.0</td>\n",
       "      <td>1</td>\n",
       "      <td>0</td>\n",
       "      <td>0</td>\n",
       "    </tr>\n",
       "    <tr>\n",
       "      <th>4</th>\n",
       "      <td>0.0</td>\n",
       "      <td>1.0</td>\n",
       "      <td>1.0</td>\n",
       "      <td>0.0</td>\n",
       "      <td>55.0</td>\n",
       "      <td>83.0</td>\n",
       "      <td>88.0</td>\n",
       "      <td>100.0</td>\n",
       "      <td>100.0</td>\n",
       "      <td>63.0</td>\n",
       "      <td>...</td>\n",
       "      <td>6300.0</td>\n",
       "      <td>8800.0</td>\n",
       "      <td>7304.0</td>\n",
       "      <td>5544.0</td>\n",
       "      <td>8300.0</td>\n",
       "      <td>6300.0</td>\n",
       "      <td>5229.0</td>\n",
       "      <td>1</td>\n",
       "      <td>0</td>\n",
       "      <td>0</td>\n",
       "    </tr>\n",
       "  </tbody>\n",
       "</table>\n",
       "<p>5 rows × 35 columns</p>\n",
       "</div>"
      ],
      "text/plain": [
       "   alter-egos  relatives  occupation  base  combat  speed  intelligence  \\\n",
       "0         0.0        1.0         1.0   0.0    64.0   17.0          38.0   \n",
       "1         0.0        1.0         1.0   0.0    85.0   35.0          88.0   \n",
       "2         0.0        1.0         1.0   1.0    65.0   53.0          50.0   \n",
       "3         0.0        1.0         1.0   1.0    95.0   53.0          63.0   \n",
       "4         0.0        1.0         1.0   0.0    55.0   83.0          88.0   \n",
       "\n",
       "   power  durability  strength  ...  durability_strength  intelligence_power  \\\n",
       "0   24.0        80.0     100.0  ...               8000.0               912.0   \n",
       "1  100.0        65.0      28.0  ...               1820.0              8800.0   \n",
       "2   99.0        64.0      90.0  ...               5760.0              4950.0   \n",
       "3   62.0        90.0      80.0  ...               7200.0              3906.0   \n",
       "4  100.0       100.0      63.0  ...               6300.0              8800.0   \n",
       "\n",
       "   intelligence_speed  intelligence_strength  power_speed  power_strength  \\\n",
       "0               646.0                 3800.0        408.0          2400.0   \n",
       "1              3080.0                 2464.0       3500.0          2800.0   \n",
       "2              2650.0                 4500.0       5247.0          8910.0   \n",
       "3              3339.0                 5040.0       3286.0          4960.0   \n",
       "4              7304.0                 5544.0       8300.0          6300.0   \n",
       "\n",
       "   speed_strength  publisher_0  publisher_1  publisher_2  \n",
       "0          1700.0            1            0            0  \n",
       "1           980.0            0            0            1  \n",
       "2          4770.0            0            1            0  \n",
       "3          4240.0            1            0            0  \n",
       "4          5229.0            1            0            0  \n",
       "\n",
       "[5 rows x 35 columns]"
      ]
     },
     "execution_count": 808,
     "metadata": {},
     "output_type": "execute_result"
    }
   ],
   "source": [
    "X = X.drop('y', axis = 1)\n",
    "X.head()"
   ]
  },
  {
   "cell_type": "code",
   "execution_count": null,
   "metadata": {},
   "outputs": [],
   "source": []
  },
  {
   "cell_type": "code",
   "execution_count": 821,
   "metadata": {},
   "outputs": [
    {
     "data": {
      "text/html": [
       "<div>\n",
       "<style scoped>\n",
       "    .dataframe tbody tr th:only-of-type {\n",
       "        vertical-align: middle;\n",
       "    }\n",
       "\n",
       "    .dataframe tbody tr th {\n",
       "        vertical-align: top;\n",
       "    }\n",
       "\n",
       "    .dataframe thead th {\n",
       "        text-align: right;\n",
       "    }\n",
       "</style>\n",
       "<table border=\"1\" class=\"dataframe\">\n",
       "  <thead>\n",
       "    <tr style=\"text-align: right;\">\n",
       "      <th></th>\n",
       "      <th>Gradient Boost Metrics</th>\n",
       "    </tr>\n",
       "  </thead>\n",
       "  <tbody>\n",
       "    <tr>\n",
       "      <th>Classification Accuracy</th>\n",
       "      <td>0.615385</td>\n",
       "    </tr>\n",
       "    <tr>\n",
       "      <th>Classification Error</th>\n",
       "      <td>0.384615</td>\n",
       "    </tr>\n",
       "    <tr>\n",
       "      <th>Recall</th>\n",
       "      <td>0.814815</td>\n",
       "    </tr>\n",
       "    <tr>\n",
       "      <th>Specificity</th>\n",
       "      <td>0.090909</td>\n",
       "    </tr>\n",
       "    <tr>\n",
       "      <th>False Positive</th>\n",
       "      <td>0.909091</td>\n",
       "    </tr>\n",
       "    <tr>\n",
       "      <th>Precision</th>\n",
       "      <td>0.687500</td>\n",
       "    </tr>\n",
       "    <tr>\n",
       "      <th>F1 Score</th>\n",
       "      <td>0.745763</td>\n",
       "    </tr>\n",
       "  </tbody>\n",
       "</table>\n",
       "</div>"
      ],
      "text/plain": [
       "                         Gradient Boost Metrics\n",
       "Classification Accuracy                0.615385\n",
       "Classification Error                   0.384615\n",
       "Recall                                 0.814815\n",
       "Specificity                            0.090909\n",
       "False Positive                         0.909091\n",
       "Precision                              0.687500\n",
       "F1 Score                               0.745763"
      ]
     },
     "execution_count": 821,
     "metadata": {},
     "output_type": "execute_result"
    }
   ],
   "source": [
    "class_metrics_df = pd.DataFrame(class_metrics_dict, index = ['Gradient Boost Metrics']).T\n",
    "class_metrics_df"
   ]
  },
  {
   "cell_type": "markdown",
   "metadata": {},
   "source": [
    "## Adjusting the Classification Threshold"
   ]
  },
  {
   "cell_type": "code",
   "execution_count": 473,
   "metadata": {},
   "outputs": [
    {
     "data": {
      "text/plain": [
       "array([1, 1, 1, 1, 1, 1, 1, 1, 1, 1, 1, 1, 1, 1, 1, 1, 1, 1, 1, 1, 1, 1,\n",
       "       1, 1, 1, 1, 1, 1, 1, 1, 1, 0, 1, 1, 1, 1, 1, 1, 1, 1, 1, 1, 1, 1,\n",
       "       1, 1, 1, 1, 1, 1])"
      ]
     },
     "execution_count": 473,
     "metadata": {},
     "output_type": "execute_result"
    }
   ],
   "source": [
    "ada.predict(X_test_selected)[0:50]"
   ]
  },
  {
   "cell_type": "code",
   "execution_count": 474,
   "metadata": {},
   "outputs": [
    {
     "data": {
      "text/plain": [
       "array([[0.48130523, 0.51869477],\n",
       "       [0.49083849, 0.50916151],\n",
       "       [0.48871844, 0.51128156],\n",
       "       [0.4051982 , 0.5948018 ],\n",
       "       [0.48863344, 0.51136656],\n",
       "       [0.48639527, 0.51360473],\n",
       "       [0.48501977, 0.51498023],\n",
       "       [0.48870916, 0.51129084],\n",
       "       [0.49596012, 0.50403988],\n",
       "       [0.48864138, 0.51135862]])"
      ]
     },
     "execution_count": 474,
     "metadata": {},
     "output_type": "execute_result"
    }
   ],
   "source": [
    "# print the first 10 predicted probabilities of class membership\n",
    "ada.predict_proba(X_test_selected)[0:10, :]"
   ]
  },
  {
   "cell_type": "code",
   "execution_count": 475,
   "metadata": {},
   "outputs": [
    {
     "data": {
      "text/plain": [
       "array([0.51869477, 0.50916151, 0.51128156, 0.5948018 , 0.51136656,\n",
       "       0.51360473, 0.51498023, 0.51129084, 0.50403988, 0.51135862])"
      ]
     },
     "execution_count": 475,
     "metadata": {},
     "output_type": "execute_result"
    }
   ],
   "source": [
    "ada.predict_proba(X_test_selected)[0:10, 1]"
   ]
  },
  {
   "cell_type": "code",
   "execution_count": 476,
   "metadata": {},
   "outputs": [],
   "source": [
    "# store the predicted probabilities for class 1\n",
    "y_pred_prob = ada.predict_proba(X_test_selected)[:, 1]"
   ]
  },
  {
   "cell_type": "code",
   "execution_count": 484,
   "metadata": {},
   "outputs": [
    {
     "data": {
      "text/plain": [
       "Text(0, 0.5, 'Frequency')"
      ]
     },
     "execution_count": 484,
     "metadata": {},
     "output_type": "execute_result"
    },
    {
     "data": {
      "image/png": "[encoded data removed]",
      "text/plain": [
       "<Figure size 864x576 with 1 Axes>"
      ]
     },
     "metadata": {
      "needs_background": "light"
     },
     "output_type": "display_data"
    }
   ],
   "source": [
    "# histogram of predicted probabilities\n",
    "plt.subplots(figsize = (12,8))\n",
    "plt.hist(y_pred_prob, bins=6)\n",
    "plt.xlim(0, 1)\n",
    "plt.title('Histogram of predicted probabilities')\n",
    "plt.xlabel('Predicted probability of Heros')\n",
    "plt.ylabel('Frequency')"
   ]
  },
  {
   "cell_type": "code",
   "execution_count": 605,
   "metadata": {},
   "outputs": [],
   "source": [
    "# predict diabetes if the predicted probability is greater than 0.3\n",
    "from sklearn.preprocessing import binarize\n",
    "y_pred_class = binarize([y_pred_prob], 0.4)[0]"
   ]
  },
  {
   "cell_type": "code",
   "execution_count": 606,
   "metadata": {},
   "outputs": [
    {
     "data": {
      "text/plain": [
       "array([0.51869477, 0.50916151, 0.51128156, 0.5948018 , 0.51136656,\n",
       "       0.51360473, 0.51498023, 0.51129084, 0.50403988, 0.51135862])"
      ]
     },
     "execution_count": 606,
     "metadata": {},
     "output_type": "execute_result"
    }
   ],
   "source": [
    "# print the first 10 predicted probabilities\n",
    "y_pred_prob[0:10]"
   ]
  },
  {
   "cell_type": "code",
   "execution_count": 607,
   "metadata": {},
   "outputs": [
    {
     "data": {
      "text/plain": [
       "array([1., 1., 1., 1., 1., 1., 1., 1., 1., 1., 1., 1., 1., 1., 1., 1., 1.,\n",
       "       1., 1., 1., 1., 1., 1., 1., 1., 1., 1., 1., 1., 1., 1., 1., 1., 1.,\n",
       "       1., 1., 1., 1., 1., 1., 1., 1., 1., 1., 1., 1., 1., 1., 1., 1., 1.,\n",
       "       1., 1., 1., 1., 1., 1., 1., 1., 1., 1., 1., 1., 1., 1., 1., 1., 1.,\n",
       "       1., 1., 1., 1., 1., 1., 1., 1., 1., 1.])"
      ]
     },
     "execution_count": 607,
     "metadata": {},
     "output_type": "execute_result"
    }
   ],
   "source": [
    "# print the first 10 predicted classes with the lower threshold\n",
    "y_pred_class[0:80]"
   ]
  },
  {
   "cell_type": "code",
   "execution_count": 608,
   "metadata": {},
   "outputs": [
    {
     "name": "stdout",
     "output_type": "stream",
     "text": [
      "[[ 2 20]\n",
      " [ 1 55]]\n"
     ]
    }
   ],
   "source": [
    "# previous confusion matrix (default threshold of 0.5)\n",
    "print(ada_confusion)"
   ]
  },
  {
   "cell_type": "code",
   "execution_count": 609,
   "metadata": {},
   "outputs": [
    {
     "name": "stdout",
     "output_type": "stream",
     "text": [
      "[[ 0 22]\n",
      " [ 0 56]]\n"
     ]
    }
   ],
   "source": [
    "# new confusion matrix (threshold of 0.5)\n",
    "print(metrics.confusion_matrix(y_test, y_pred_class))"
   ]
  },
  {
   "cell_type": "code",
   "execution_count": 610,
   "metadata": {},
   "outputs": [
    {
     "name": "stdout",
     "output_type": "stream",
     "text": [
      "1.0\n"
     ]
    }
   ],
   "source": [
    "# sensitivity has increased (used to be 0.98)\n",
    "print(56 / float(56))"
   ]
  },
  {
   "cell_type": "code",
   "execution_count": 611,
   "metadata": {},
   "outputs": [
    {
     "name": "stdout",
     "output_type": "stream",
     "text": [
      "0.0\n"
     ]
    }
   ],
   "source": [
    "# specificity has decreased (used to be 0.09)\n",
    "print(0 / float(0 + 22))"
   ]
  },
  {
   "cell_type": "code",
   "execution_count": 612,
   "metadata": {},
   "outputs": [
    {
     "data": {
      "image/png": "[encoded data removed]",
      "text/plain": [
       "<Figure size 432x288 with 1 Axes>"
      ]
     },
     "metadata": {
      "needs_background": "light"
     },
     "output_type": "display_data"
    }
   ],
   "source": [
    "# IMPORTANT: first argument is true values, second argument is predicted probabilities\n",
    "fpr, tpr, thresholds = metrics.roc_curve(y_test, y_pred_prob)\n",
    "\n",
    "plt.plot(fpr, tpr)\n",
    "plt.xlim([0.0, 1.0])\n",
    "plt.ylim([0.0, 1.0])\n",
    "plt.title('ROC curve for Hero classifier')\n",
    "plt.xlabel('False Positive Rate (1 - Specificity)')\n",
    "plt.ylabel('True Positive Rate (Sensitivity)')\n",
    "plt.grid(True)"
   ]
  },
  {
   "cell_type": "code",
   "execution_count": 734,
   "metadata": {},
   "outputs": [],
   "source": [
    "from sklearn.metrics import classification_report,accuracy_score\n",
    "from sklearn.ensemble import IsolationForest\n",
    "from sklearn.neighbors import LocalOutlierFactor\n",
    "from sklearn.svm import OneClassSVM\n",
    "from pylab import rcParams"
   ]
  },
  {
   "cell_type": "code",
   "execution_count": 736,
   "metadata": {},
   "outputs": [],
   "source": [
    "## Get the Hero and the Villain\n",
    "hero = Z[Z['y']==1]\n",
    "\n",
    "villain = Z[Z['y']==0]"
   ]
  },
  {
   "cell_type": "code",
   "execution_count": 739,
   "metadata": {},
   "outputs": [
    {
     "data": {
      "text/html": [
       "<div>\n",
       "<style scoped>\n",
       "    .dataframe tbody tr th:only-of-type {\n",
       "        vertical-align: middle;\n",
       "    }\n",
       "\n",
       "    .dataframe tbody tr th {\n",
       "        vertical-align: top;\n",
       "    }\n",
       "\n",
       "    .dataframe thead th {\n",
       "        text-align: right;\n",
       "    }\n",
       "</style>\n",
       "<table border=\"1\" class=\"dataframe\">\n",
       "  <thead>\n",
       "    <tr style=\"text-align: right;\">\n",
       "      <th></th>\n",
       "      <th>alter-egos</th>\n",
       "      <th>relatives</th>\n",
       "      <th>occupation</th>\n",
       "      <th>base</th>\n",
       "      <th>combat</th>\n",
       "      <th>speed</th>\n",
       "      <th>intelligence</th>\n",
       "      <th>power</th>\n",
       "      <th>durability</th>\n",
       "      <th>strength</th>\n",
       "      <th>...</th>\n",
       "      <th>intelligence_power</th>\n",
       "      <th>intelligence_speed</th>\n",
       "      <th>intelligence_strength</th>\n",
       "      <th>power_speed</th>\n",
       "      <th>power_strength</th>\n",
       "      <th>speed_strength</th>\n",
       "      <th>publisher_0</th>\n",
       "      <th>publisher_1</th>\n",
       "      <th>publisher_2</th>\n",
       "      <th>y</th>\n",
       "    </tr>\n",
       "  </thead>\n",
       "  <tbody>\n",
       "    <tr>\n",
       "      <th>0</th>\n",
       "      <td>0.0</td>\n",
       "      <td>1.0</td>\n",
       "      <td>1.0</td>\n",
       "      <td>0.0</td>\n",
       "      <td>64.0</td>\n",
       "      <td>17.0</td>\n",
       "      <td>38.0</td>\n",
       "      <td>24.0</td>\n",
       "      <td>80.0</td>\n",
       "      <td>100.0</td>\n",
       "      <td>...</td>\n",
       "      <td>912.0</td>\n",
       "      <td>646.0</td>\n",
       "      <td>3800.0</td>\n",
       "      <td>408.0</td>\n",
       "      <td>2400.0</td>\n",
       "      <td>1700.0</td>\n",
       "      <td>1</td>\n",
       "      <td>0</td>\n",
       "      <td>0</td>\n",
       "      <td>1</td>\n",
       "    </tr>\n",
       "    <tr>\n",
       "      <th>1</th>\n",
       "      <td>0.0</td>\n",
       "      <td>1.0</td>\n",
       "      <td>1.0</td>\n",
       "      <td>0.0</td>\n",
       "      <td>85.0</td>\n",
       "      <td>35.0</td>\n",
       "      <td>88.0</td>\n",
       "      <td>100.0</td>\n",
       "      <td>65.0</td>\n",
       "      <td>28.0</td>\n",
       "      <td>...</td>\n",
       "      <td>8800.0</td>\n",
       "      <td>3080.0</td>\n",
       "      <td>2464.0</td>\n",
       "      <td>3500.0</td>\n",
       "      <td>2800.0</td>\n",
       "      <td>980.0</td>\n",
       "      <td>0</td>\n",
       "      <td>0</td>\n",
       "      <td>1</td>\n",
       "      <td>1</td>\n",
       "    </tr>\n",
       "    <tr>\n",
       "      <th>2</th>\n",
       "      <td>0.0</td>\n",
       "      <td>1.0</td>\n",
       "      <td>1.0</td>\n",
       "      <td>1.0</td>\n",
       "      <td>65.0</td>\n",
       "      <td>53.0</td>\n",
       "      <td>50.0</td>\n",
       "      <td>99.0</td>\n",
       "      <td>64.0</td>\n",
       "      <td>90.0</td>\n",
       "      <td>...</td>\n",
       "      <td>4950.0</td>\n",
       "      <td>2650.0</td>\n",
       "      <td>4500.0</td>\n",
       "      <td>5247.0</td>\n",
       "      <td>8910.0</td>\n",
       "      <td>4770.0</td>\n",
       "      <td>0</td>\n",
       "      <td>1</td>\n",
       "      <td>0</td>\n",
       "      <td>1</td>\n",
       "    </tr>\n",
       "    <tr>\n",
       "      <th>6</th>\n",
       "      <td>0.0</td>\n",
       "      <td>0.0</td>\n",
       "      <td>1.0</td>\n",
       "      <td>1.0</td>\n",
       "      <td>64.0</td>\n",
       "      <td>12.0</td>\n",
       "      <td>63.0</td>\n",
       "      <td>100.0</td>\n",
       "      <td>100.0</td>\n",
       "      <td>10.0</td>\n",
       "      <td>...</td>\n",
       "      <td>6300.0</td>\n",
       "      <td>756.0</td>\n",
       "      <td>630.0</td>\n",
       "      <td>1200.0</td>\n",
       "      <td>1000.0</td>\n",
       "      <td>120.0</td>\n",
       "      <td>0</td>\n",
       "      <td>0</td>\n",
       "      <td>1</td>\n",
       "      <td>1</td>\n",
       "    </tr>\n",
       "    <tr>\n",
       "      <th>7</th>\n",
       "      <td>0.0</td>\n",
       "      <td>1.0</td>\n",
       "      <td>1.0</td>\n",
       "      <td>1.0</td>\n",
       "      <td>50.0</td>\n",
       "      <td>33.0</td>\n",
       "      <td>69.0</td>\n",
       "      <td>37.0</td>\n",
       "      <td>40.0</td>\n",
       "      <td>10.0</td>\n",
       "      <td>...</td>\n",
       "      <td>2553.0</td>\n",
       "      <td>2277.0</td>\n",
       "      <td>690.0</td>\n",
       "      <td>1221.0</td>\n",
       "      <td>370.0</td>\n",
       "      <td>330.0</td>\n",
       "      <td>0</td>\n",
       "      <td>1</td>\n",
       "      <td>0</td>\n",
       "      <td>1</td>\n",
       "    </tr>\n",
       "  </tbody>\n",
       "</table>\n",
       "<p>5 rows × 36 columns</p>\n",
       "</div>"
      ],
      "text/plain": [
       "   alter-egos  relatives  occupation  base  combat  speed  intelligence  \\\n",
       "0         0.0        1.0         1.0   0.0    64.0   17.0          38.0   \n",
       "1         0.0        1.0         1.0   0.0    85.0   35.0          88.0   \n",
       "2         0.0        1.0         1.0   1.0    65.0   53.0          50.0   \n",
       "6         0.0        0.0         1.0   1.0    64.0   12.0          63.0   \n",
       "7         0.0        1.0         1.0   1.0    50.0   33.0          69.0   \n",
       "\n",
       "   power  durability  strength  ...  intelligence_power  intelligence_speed  \\\n",
       "0   24.0        80.0     100.0  ...               912.0               646.0   \n",
       "1  100.0        65.0      28.0  ...              8800.0              3080.0   \n",
       "2   99.0        64.0      90.0  ...              4950.0              2650.0   \n",
       "6  100.0       100.0      10.0  ...              6300.0               756.0   \n",
       "7   37.0        40.0      10.0  ...              2553.0              2277.0   \n",
       "\n",
       "   intelligence_strength  power_speed  power_strength  speed_strength  \\\n",
       "0                 3800.0        408.0          2400.0          1700.0   \n",
       "1                 2464.0       3500.0          2800.0           980.0   \n",
       "2                 4500.0       5247.0          8910.0          4770.0   \n",
       "6                  630.0       1200.0          1000.0           120.0   \n",
       "7                  690.0       1221.0           370.0           330.0   \n",
       "\n",
       "   publisher_0  publisher_1  publisher_2  y  \n",
       "0            1            0            0  1  \n",
       "1            0            0            1  1  \n",
       "2            0            1            0  1  \n",
       "6            0            0            1  1  \n",
       "7            0            1            0  1  \n",
       "\n",
       "[5 rows x 36 columns]"
      ]
     },
     "execution_count": 739,
     "metadata": {},
     "output_type": "execute_result"
    }
   ],
   "source": [
    "hero.head()"
   ]
  },
  {
   "cell_type": "code",
   "execution_count": 740,
   "metadata": {},
   "outputs": [
    {
     "data": {
      "text/plain": [
       "((534, 36), (240, 36))"
      ]
     },
     "execution_count": 740,
     "metadata": {},
     "output_type": "execute_result"
    }
   ],
   "source": [
    "hero.shape,villain.shape"
   ]
  }
 ],
 "metadata": {
  "kernelspec": {
   "display_name": "Python 3",
   "language": "python",
   "name": "python3"
  },
  "language_info": {
   "codemirror_mode": {
    "name": "ipython",
    "version": 3
   },
   "file_extension": ".py",
   "mimetype": "text/x-python",
   "name": "python",
   "nbconvert_exporter": "python",
   "pygments_lexer": "ipython3",
   "version": "3.7.3"
  }
 },
 "nbformat": 4,
 "nbformat_minor": 4
}
